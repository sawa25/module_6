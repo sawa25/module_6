{
 "cells": [
  {
   "cell_type": "markdown",
   "metadata": {
    "papermill": {
     "duration": 0.029718,
     "end_time": "2020-10-26T12:46:41.276296",
     "exception": false,
     "start_time": "2020-10-26T12:46:41.246578",
     "status": "completed"
    },
    "tags": []
   },
   "source": [
    "## Прогнозирование стоимости автомобиля по характеристикам\n"
   ]
  },
  {
   "cell_type": "code",
   "execution_count": null,
   "metadata": {},
   "outputs": [],
   "source": [
    "# %pip install catboost\n",
    "# %pip install sklearn\n",
    "# %pip install tqdm\n",
    "# %pip install phik\n",
    "# %pip install https://github.com/pandas-profiling/pandas-profiling/archive/master.zip\n",
    "# %pip install seaborn\n",
    "# %pip install pandas-profiling[notebook]"
   ]
  },
  {
   "cell_type": "code",
   "execution_count": 1,
   "metadata": {
    "_cell_guid": "b1076dfc-b9ad-4769-8c92-a6c4dae69d19",
    "_uuid": "8f2839f25d086af736a60e9eeb907d3b93b6e0e5",
    "execution": {
     "iopub.execute_input": "2020-10-26T12:46:41.400302Z",
     "iopub.status.busy": "2020-10-26T12:46:41.399317Z",
     "iopub.status.idle": "2020-10-26T12:46:42.581426Z",
     "shell.execute_reply": "2020-10-26T12:46:42.580431Z"
    },
    "papermill": {
     "duration": 1.219772,
     "end_time": "2020-10-26T12:46:42.581597",
     "exception": false,
     "start_time": "2020-10-26T12:46:41.361825",
     "status": "completed"
    },
    "tags": []
   },
   "outputs": [
    {
     "name": "stdout",
     "output_type": "stream",
     "text": [
      "Python       : 3.9.7 (default, Sep 16 2021, 16:59:28) [MSC v.1916 64 bit (AMD64)]\n",
      "Numpy        : 1.20.3\n"
     ]
    }
   ],
   "source": [
    "import numpy as np # linear algebra\n",
    "import pandas as pd # data processing, CSV file I/O (e.g. pd.read_csv)\n",
    "import sys\n",
    "from sklearn.model_selection import train_test_split\n",
    "from sklearn.model_selection import KFold\n",
    "from tqdm.notebook import tqdm\n",
    "from catboost import CatBoostRegressor\n",
    "from sklearn.preprocessing import LabelEncoder\n",
    "# всегда фиксируйте RANDOM_SEED, чтобы ваши эксперименты были воспроизводимы!\n",
    "RANDOM_SEED = 42\n",
    "print('Python       :', sys.version.split('\\n')[0])\n",
    "print('Numpy        :', np.__version__)\n",
    "# зафиксируем версию пакетов, чтобы эксперименты были воспроизводимы:\n",
    "# %pip freeze > requirements.txt\n",
    "def mape(y_true, y_pred):\n",
    "    return np.mean(np.abs((y_pred-y_true)/y_true))\n",
    "VERSION    = 2\n",
    "DIR_TRAIN  = './input/parsing-all-moscow-auto-ru-09-09-2020/' # подключил к ноутбуку внешний датасет\n",
    "DIR_TEST   = './input/sf-dst-car-price-prediction/'\n",
    "VAL_SIZE   = 0.20   # 20%    "
   ]
  },
  {
   "cell_type": "markdown",
   "metadata": {
    "papermill": {
     "duration": 0.030254,
     "end_time": "2020-10-26T12:46:48.112586",
     "exception": false,
     "start_time": "2020-10-26T12:46:48.082332",
     "status": "completed"
    },
    "tags": []
   },
   "source": [
    "# Data"
   ]
  },
  {
   "cell_type": "code",
   "execution_count": 2,
   "metadata": {},
   "outputs": [],
   "source": [
    "\n",
    "# train = pd.read_csv(DIR_TRAIN+'all_auto_ru_09_09_2020.csv') # датасет для обучения модели\n",
    "test = pd.read_csv(DIR_TEST+'test.csv')\n",
    "sample_submission = pd.read_csv(DIR_TEST+'sample_submission.csv')\n",
    "train_my = pd.read_csv('dftrain.csv') # мой датасет для обучения модели\n",
    "\n"
   ]
  },
  {
   "cell_type": "code",
   "execution_count": 13,
   "metadata": {},
   "outputs": [
    {
     "name": "stderr",
     "output_type": "stream",
     "text": [
      "Summarize dataset: 100%|██████████| 108/108 [01:49<00:00,  1.02s/it, Completed]                                \n",
      "Generate report structure: 100%|██████████| 1/1 [00:34<00:00, 34.72s/it]\n",
      "Render HTML: 100%|██████████| 1/1 [00:10<00:00, 10.04s/it]\n",
      "Export report to file: 100%|██████████| 1/1 [00:00<00:00, 10.20it/s]\n"
     ]
    }
   ],
   "source": [
    "# %pip uninstall pandas-profiling\n",
    "# %pip install pandas-profiling[notebook,html]\n",
    "# %pip install ruamel-yaml\n",
    "\n",
    "#использование профилировщика пандас для изучения тестового датасета\n",
    "# from pandas_profiling import ProfileReport\n",
    "# profile = ProfileReport(train_my, title=\"Pandas Profiling Report for train\")\n",
    "# profile.to_file(\"your_trainreport.html\")\n"
   ]
  },
  {
   "cell_type": "markdown",
   "metadata": {
    "papermill": {
     "duration": 0.033402,
     "end_time": "2020-10-26T12:47:02.866506",
     "exception": false,
     "start_time": "2020-10-26T12:47:02.833104",
     "status": "completed"
    },
    "tags": []
   },
   "source": [
    "## Data Preprocessing"
   ]
  },
  {
   "cell_type": "code",
   "execution_count": 17,
   "metadata": {
    "execution": {
     "iopub.execute_input": "2020-10-26T12:47:03.025049Z",
     "iopub.status.busy": "2020-10-26T12:47:03.024167Z",
     "iopub.status.idle": "2020-10-26T12:47:03.134429Z",
     "shell.execute_reply": "2020-10-26T12:47:03.133689Z"
    },
    "papermill": {
     "duration": 0.156124,
     "end_time": "2020-10-26T12:47:03.134605",
     "exception": false,
     "start_time": "2020-10-26T12:47:02.978481",
     "status": "completed"
    },
    "tags": []
   },
   "outputs": [],
   "source": [
    "# train.dropna(subset=['productionDate','mileage'], inplace=True)\n",
    "# train.dropna(subset=['price'], inplace=True)\n",
    "# # для baseline просто возьму пару схожих признаков без полной обработки\n",
    "# columns = ['bodyType', 'brand', 'productionDate', 'engineDisplacement', 'mileage']\n",
    "\n",
    "# df_train = train[columns]\n",
    "# df_test = test[columns]\n",
    "# y = train['price']"
   ]
  },
  {
   "cell_type": "code",
   "execution_count": 3,
   "metadata": {},
   "outputs": [],
   "source": [
    "#из-за нехватки времени некоторые признаки в тренировочной базе являются неполными\n",
    "# адаптировать тестовый датасет, чтобы там не было отсутствующих значений для  таких признаков:\n",
    "mycolors=['чёрный', 'белый', 'серый', 'синий', 'серебристый','красный']\n",
    "test['color']=test['color'].apply(lambda x: x if (x in mycolors) else 'другой цвет')\n",
    "test['fuelType']=test['fuelType'].apply(lambda x: x if (x in ['бензин','дизель','гибрид']) else 'другое топливо')\n",
    "\n",
    "train_my['numberOfDoors']=train_my['numberOfDoors'].apply(lambda x: int(x))\n"
   ]
  },
  {
   "cell_type": "code",
   "execution_count": 4,
   "metadata": {},
   "outputs": [],
   "source": [
    "# 'complectation_dict','equipment_dict','model_info','super_gen',\n",
    "columns_my=['bodyType', 'brand', 'color', \n",
    "        'engineDisplacement', 'enginePower', \n",
    "       'fuelType',  'mileage', 'modelDate',  'model_name',\n",
    "       'name', 'numberOfDoors',  \n",
    "       'productionDate', 'sell_id',  'vehicleConfiguration',\n",
    "       'vehicleTransmission', 'vendor', 'Владельцы',  'ПТС',\n",
    "       'Привод', 'Руль']\n",
    "columns_my = ['bodyType', 'brand','color',\n",
    " 'engineDisplacement','enginePower', \n",
    " 'mileage',     'modelDate', 'model_name', \n",
    "  'name', 'numberOfDoors',   \n",
    "  'productionDate',   'vehicleConfiguration',\n",
    "]\n",
    "df_train_my = train_my[columns_my]\n",
    "df_test = test[columns_my]\n",
    "y = train_my['price']"
   ]
  },
  {
   "cell_type": "code",
   "execution_count": null,
   "metadata": {},
   "outputs": [],
   "source": [
    "df_train_my.sample(3)"
   ]
  },
  {
   "cell_type": "markdown",
   "metadata": {
    "papermill": {
     "duration": 0.033657,
     "end_time": "2020-10-26T12:47:03.29162",
     "exception": false,
     "start_time": "2020-10-26T12:47:03.257963",
     "status": "completed"
    },
    "tags": []
   },
   "source": [
    "## Label Encoding"
   ]
  },
  {
   "cell_type": "code",
   "execution_count": null,
   "metadata": {
    "execution": {
     "iopub.execute_input": "2020-10-26T12:47:03.371409Z",
     "iopub.status.busy": "2020-10-26T12:47:03.370451Z",
     "iopub.status.idle": "2020-10-26T12:47:03.40603Z",
     "shell.execute_reply": "2020-10-26T12:47:03.405053Z"
    },
    "papermill": {
     "duration": 0.080223,
     "end_time": "2020-10-26T12:47:03.406196",
     "exception": false,
     "start_time": "2020-10-26T12:47:03.325973",
     "status": "completed"
    },
    "tags": []
   },
   "outputs": [],
   "source": [
    "# ВАЖНО! дря корректной обработки признаков объединяем трейн и тест в один датасет\n",
    "# df_train['sample'] = 1 # помечаем где у нас трейн\n",
    "# df_test['sample'] = 0 # помечаем где у нас тест\n",
    "\n",
    "# data = df_test.append(df_train, sort=False).reset_index(drop=True) # объединяем"
   ]
  },
  {
   "cell_type": "code",
   "execution_count": 5,
   "metadata": {},
   "outputs": [
    {
     "name": "stderr",
     "output_type": "stream",
     "text": [
      "C:\\Users\\User\\AppData\\Local\\Temp/ipykernel_13148/2061146508.py:1: SettingWithCopyWarning: \n",
      "A value is trying to be set on a copy of a slice from a DataFrame.\n",
      "Try using .loc[row_indexer,col_indexer] = value instead\n",
      "\n",
      "See the caveats in the documentation: https://pandas.pydata.org/pandas-docs/stable/user_guide/indexing.html#returning-a-view-versus-a-copy\n",
      "  df_train_my['sample'] = 1 # помечаем где у нас трейн\n",
      "C:\\Users\\User\\AppData\\Local\\Temp/ipykernel_13148/2061146508.py:2: SettingWithCopyWarning: \n",
      "A value is trying to be set on a copy of a slice from a DataFrame.\n",
      "Try using .loc[row_indexer,col_indexer] = value instead\n",
      "\n",
      "See the caveats in the documentation: https://pandas.pydata.org/pandas-docs/stable/user_guide/indexing.html#returning-a-view-versus-a-copy\n",
      "  df_test['sample'] = 0 # помечаем где у нас тест\n"
     ]
    }
   ],
   "source": [
    "df_train_my['sample'] = 1 # помечаем где у нас трейн\n",
    "df_test['sample'] = 0 # помечаем где у нас тест\n",
    "data_my = df_test.append(df_train_my, sort=False).reset_index(drop=True) # объединяем\n",
    "# data_my.sample(3).iloc[:,:]"
   ]
  },
  {
   "cell_type": "code",
   "execution_count": 44,
   "metadata": {
    "execution": {
     "iopub.execute_input": "2020-10-26T12:47:03.489637Z",
     "iopub.status.busy": "2020-10-26T12:47:03.483022Z",
     "iopub.status.idle": "2020-10-26T12:47:03.549376Z",
     "shell.execute_reply": "2020-10-26T12:47:03.548539Z"
    },
    "papermill": {
     "duration": 0.10809,
     "end_time": "2020-10-26T12:47:03.549533",
     "exception": false,
     "start_time": "2020-10-26T12:47:03.441443",
     "status": "completed"
    },
    "tags": []
   },
   "outputs": [],
   "source": [
    "# для катбуста не нужно собственноручно переводить в категорию\n",
    "# for colum in ['bodyType', 'brand', 'engineDisplacement']:\n",
    "#     data[colum] = data[colum].astype('category').cat.codes\n",
    "# X = data.query('sample == 1').drop(['sample'], axis=1)\n",
    "# X_sub = data.query('sample == 0').drop(['sample'], axis=1)\n"
   ]
  },
  {
   "cell_type": "code",
   "execution_count": 6,
   "metadata": {},
   "outputs": [],
   "source": [
    "# , 'complectation_dict'\n",
    "# , 'equipment_dict',\n",
    "# 'mileage',\n",
    "#  'model_info',\n",
    "# \n",
    "# 'parsing_unixtime',\n",
    "# 'sell_id',\n",
    "# 'super_gen','modelDate','productionDate', \n",
    "cat_features_ids=['bodyType', 'brand', 'color',\n",
    "        'engineDisplacement', 'enginePower',\n",
    "       'fuelType',    'model_name','name',\n",
    "        'numberOfDoors',  \n",
    "         'vehicleConfiguration',\n",
    "       'vehicleTransmission', 'vendor', 'Владельцы',  'ПТС',\n",
    "       'Привод', 'Руль']\n",
    "cat_features_ids=list(set(columns_my).intersection(set(cat_features_ids)))\n",
    "\n",
    "X = data_my.query('sample == 1').drop(['sample'], axis=1)\n",
    "X_sub = data_my.query('sample == 0').drop(['sample'], axis=1)\n"
   ]
  },
  {
   "cell_type": "markdown",
   "metadata": {
    "papermill": {
     "duration": 0.035737,
     "end_time": "2020-10-26T12:47:03.826552",
     "exception": false,
     "start_time": "2020-10-26T12:47:03.790815",
     "status": "completed"
    },
    "tags": []
   },
   "source": [
    "## Train Split"
   ]
  },
  {
   "cell_type": "code",
   "execution_count": 7,
   "metadata": {
    "execution": {
     "iopub.execute_input": "2020-10-26T12:47:03.90948Z",
     "iopub.status.busy": "2020-10-26T12:47:03.908518Z",
     "iopub.status.idle": "2020-10-26T12:47:03.923409Z",
     "shell.execute_reply": "2020-10-26T12:47:03.922602Z"
    },
    "papermill": {
     "duration": 0.059208,
     "end_time": "2020-10-26T12:47:03.923564",
     "exception": false,
     "start_time": "2020-10-26T12:47:03.864356",
     "status": "completed"
    },
    "tags": []
   },
   "outputs": [],
   "source": [
    "X_train, X_test, y_train, y_test = train_test_split(X, y, test_size=VAL_SIZE, shuffle=True, random_state=RANDOM_SEED)"
   ]
  },
  {
   "cell_type": "markdown",
   "metadata": {},
   "source": [
    "# Model 1: Создадим \"наивную\" модель \n",
    "Эта модель будет предсказывать среднюю цену по модели двигателя (engineDisplacement). \n",
    "C ней будем сравнивать другие модели.\n",
    "\n",
    "\n"
   ]
  },
  {
   "cell_type": "code",
   "execution_count": 49,
   "metadata": {},
   "outputs": [],
   "source": [
    "# tmp_train = X_train.copy()\n",
    "# tmp_train['price'] = y_train\n",
    "# # Находим median по экземплярам engineDisplacement в трейне и размечаем тест\n",
    "# predict = X_test['engineDisplacement'].map(tmp_train.groupby('engineDisplacement')['price'].median())\n",
    "\n",
    "# #оцениваем точность\n",
    "# print(f\"Точность наивной модели по метрике MAPE: {(mape(y_test, predict.values))*100:0.2f}%\")"
   ]
  },
  {
   "cell_type": "markdown",
   "metadata": {
    "papermill": {
     "duration": 0.037164,
     "end_time": "2020-10-26T12:47:03.997616",
     "exception": false,
     "start_time": "2020-10-26T12:47:03.960452",
     "status": "completed"
    },
    "tags": []
   },
   "source": [
    "# # Model 2 : CatBoost\n"
   ]
  },
  {
   "cell_type": "markdown",
   "metadata": {
    "papermill": {
     "duration": 0.035833,
     "end_time": "2020-10-26T12:47:04.149539",
     "exception": false,
     "start_time": "2020-10-26T12:47:04.113706",
     "status": "completed"
    },
    "tags": []
   },
   "source": [
    "## Fit"
   ]
  },
  {
   "cell_type": "markdown",
   "metadata": {},
   "source": [
    "### Log Traget\n",
    "Попробуем взять таргет в логорифм - это позволит уменьшить влияние выбросов на обучение модели (используем для этого np.log и np.exp).    \n",
    "В принциепе мы можем использовать любое приобразование на целевую переменную. Например деление на курс доллара, евро или гречки :) в дату сбора данных, смотрим дату парсинга в тесте в **parsing_unixtime**"
   ]
  },
  {
   "cell_type": "code",
   "execution_count": null,
   "metadata": {},
   "outputs": [],
   "source": [
    "# # попытки разобраться с признаком parse_unixtime\n",
    "# from datetime import datetime\n",
    "# def parseunix(x):\n",
    "#     ts = int(x)\n",
    "#     return datetime.utcfromtimestamp(ts).strftime('%Y-%m-%d')\n",
    "\n",
    "# df_=test.loc[:,['parsing_unixtime']] \n",
    "# df_['unixtime']=df_['parsing_unixtime'].apply(parseunix)\n",
    "\n",
    "# df_.sort_values(by='unixtime',ascending=True)"
   ]
  },
  {
   "cell_type": "code",
   "execution_count": 8,
   "metadata": {},
   "outputs": [
    {
     "name": "stdout",
     "output_type": "stream",
     "text": [
      "['color', 'enginePower', 'brand', 'bodyType', 'engineDisplacement', 'vehicleConfiguration', 'model_name', 'numberOfDoors', 'name']\n"
     ]
    }
   ],
   "source": [
    "print(cat_features_ids)"
   ]
  },
  {
   "cell_type": "code",
   "execution_count": 9,
   "metadata": {},
   "outputs": [
    {
     "name": "stdout",
     "output_type": "stream",
     "text": [
      "Learning rate set to 0.030553\n",
      "0:\tlearn: 0.0502422\ttest: 0.0506036\tbest: 0.0506036 (0)\ttotal: 760ms\tremaining: 1h 3m 19s\n",
      "20:\tlearn: 0.0321854\ttest: 0.0322138\tbest: 0.0322138 (20)\ttotal: 4.97s\tremaining: 19m 38s\n",
      "40:\tlearn: 0.0233479\ttest: 0.0229767\tbest: 0.0229767 (40)\ttotal: 8.35s\tremaining: 16m 49s\n",
      "60:\tlearn: 0.0193749\ttest: 0.0188143\tbest: 0.0188143 (60)\ttotal: 13.7s\tremaining: 18m 28s\n",
      "80:\tlearn: 0.0174489\ttest: 0.0168512\tbest: 0.0168512 (80)\ttotal: 17.8s\tremaining: 18m\n",
      "100:\tlearn: 0.0163539\ttest: 0.0157846\tbest: 0.0157846 (100)\ttotal: 23.5s\tremaining: 18m 58s\n",
      "120:\tlearn: 0.0157350\ttest: 0.0152574\tbest: 0.0152574 (120)\ttotal: 27.8s\tremaining: 18m 41s\n",
      "140:\tlearn: 0.0153433\ttest: 0.0149151\tbest: 0.0149151 (140)\ttotal: 32.4s\tremaining: 18m 37s\n",
      "160:\tlearn: 0.0150619\ttest: 0.0146547\tbest: 0.0146547 (160)\ttotal: 36.6s\tremaining: 18m 20s\n",
      "180:\tlearn: 0.0148210\ttest: 0.0144435\tbest: 0.0144435 (180)\ttotal: 40.3s\tremaining: 17m 53s\n",
      "200:\tlearn: 0.0145840\ttest: 0.0142145\tbest: 0.0142145 (200)\ttotal: 43.8s\tremaining: 17m 24s\n",
      "220:\tlearn: 0.0143954\ttest: 0.0140302\tbest: 0.0140302 (220)\ttotal: 47.7s\tremaining: 17m 10s\n",
      "240:\tlearn: 0.0141809\ttest: 0.0138381\tbest: 0.0138381 (240)\ttotal: 51.9s\tremaining: 17m 4s\n",
      "260:\tlearn: 0.0140323\ttest: 0.0137004\tbest: 0.0137004 (260)\ttotal: 56.1s\tremaining: 16m 59s\n",
      "280:\tlearn: 0.0139087\ttest: 0.0135932\tbest: 0.0135932 (280)\ttotal: 59.6s\tremaining: 16m 40s\n",
      "300:\tlearn: 0.0137930\ttest: 0.0134935\tbest: 0.0134935 (300)\ttotal: 1m 3s\tremaining: 16m 24s\n",
      "320:\tlearn: 0.0136830\ttest: 0.0134043\tbest: 0.0134043 (320)\ttotal: 1m 6s\tremaining: 16m 11s\n",
      "340:\tlearn: 0.0135798\ttest: 0.0133157\tbest: 0.0133157 (340)\ttotal: 1m 10s\tremaining: 16m\n",
      "360:\tlearn: 0.0135024\ttest: 0.0132449\tbest: 0.0132449 (360)\ttotal: 1m 13s\tremaining: 15m 45s\n",
      "380:\tlearn: 0.0134541\ttest: 0.0132119\tbest: 0.0132118 (377)\ttotal: 1m 17s\tremaining: 15m 35s\n",
      "400:\tlearn: 0.0133976\ttest: 0.0131621\tbest: 0.0131621 (399)\ttotal: 1m 20s\tremaining: 15m 24s\n",
      "420:\tlearn: 0.0133555\ttest: 0.0131328\tbest: 0.0131328 (419)\ttotal: 1m 24s\tremaining: 15m 18s\n",
      "440:\tlearn: 0.0132844\ttest: 0.0130690\tbest: 0.0130690 (440)\ttotal: 1m 28s\tremaining: 15m 16s\n",
      "460:\tlearn: 0.0132264\ttest: 0.0130202\tbest: 0.0130202 (460)\ttotal: 1m 33s\tremaining: 15m 20s\n",
      "480:\tlearn: 0.0131450\ttest: 0.0129534\tbest: 0.0129534 (480)\ttotal: 1m 37s\tremaining: 15m 20s\n",
      "500:\tlearn: 0.0130973\ttest: 0.0129163\tbest: 0.0129163 (500)\ttotal: 1m 41s\tremaining: 15m 15s\n",
      "520:\tlearn: 0.0130334\ttest: 0.0128635\tbest: 0.0128635 (520)\ttotal: 1m 45s\tremaining: 15m 7s\n",
      "540:\tlearn: 0.0129543\ttest: 0.0127998\tbest: 0.0127998 (540)\ttotal: 1m 48s\tremaining: 14m 58s\n",
      "560:\tlearn: 0.0128963\ttest: 0.0127534\tbest: 0.0127534 (560)\ttotal: 1m 52s\tremaining: 14m 50s\n",
      "580:\tlearn: 0.0128534\ttest: 0.0127245\tbest: 0.0127245 (580)\ttotal: 1m 55s\tremaining: 14m 41s\n",
      "600:\tlearn: 0.0128120\ttest: 0.0126964\tbest: 0.0126964 (600)\ttotal: 1m 59s\tremaining: 14m 33s\n",
      "620:\tlearn: 0.0127388\ttest: 0.0126382\tbest: 0.0126382 (620)\ttotal: 2m 2s\tremaining: 14m 25s\n",
      "640:\tlearn: 0.0126832\ttest: 0.0126079\tbest: 0.0126079 (640)\ttotal: 2m 6s\tremaining: 14m 19s\n",
      "660:\tlearn: 0.0126323\ttest: 0.0125771\tbest: 0.0125771 (660)\ttotal: 2m 9s\tremaining: 14m 11s\n",
      "680:\tlearn: 0.0125926\ttest: 0.0125555\tbest: 0.0125555 (680)\ttotal: 2m 13s\tremaining: 14m 4s\n",
      "700:\tlearn: 0.0125438\ttest: 0.0125265\tbest: 0.0125265 (700)\ttotal: 2m 16s\tremaining: 13m 57s\n",
      "720:\tlearn: 0.0125042\ttest: 0.0125041\tbest: 0.0125041 (720)\ttotal: 2m 20s\tremaining: 13m 52s\n",
      "740:\tlearn: 0.0124609\ttest: 0.0124836\tbest: 0.0124836 (739)\ttotal: 2m 25s\tremaining: 13m 54s\n",
      "760:\tlearn: 0.0124166\ttest: 0.0124543\tbest: 0.0124543 (760)\ttotal: 2m 29s\tremaining: 13m 53s\n",
      "780:\tlearn: 0.0123854\ttest: 0.0124365\tbest: 0.0124364 (777)\ttotal: 2m 33s\tremaining: 13m 49s\n",
      "800:\tlearn: 0.0123401\ttest: 0.0124079\tbest: 0.0124079 (800)\ttotal: 2m 36s\tremaining: 13m 42s\n",
      "820:\tlearn: 0.0122998\ttest: 0.0123765\tbest: 0.0123765 (820)\ttotal: 2m 40s\tremaining: 13m 36s\n",
      "840:\tlearn: 0.0122545\ttest: 0.0123519\tbest: 0.0123517 (839)\ttotal: 2m 44s\tremaining: 13m 35s\n",
      "860:\tlearn: 0.0122262\ttest: 0.0123364\tbest: 0.0123363 (857)\ttotal: 2m 51s\tremaining: 13m 42s\n",
      "880:\tlearn: 0.0121954\ttest: 0.0123166\tbest: 0.0123166 (880)\ttotal: 2m 55s\tremaining: 13m 38s\n",
      "900:\tlearn: 0.0121514\ttest: 0.0122922\tbest: 0.0122922 (900)\ttotal: 2m 58s\tremaining: 13m 32s\n",
      "920:\tlearn: 0.0121220\ttest: 0.0122785\tbest: 0.0122777 (918)\ttotal: 3m 1s\tremaining: 13m 25s\n",
      "940:\tlearn: 0.0120857\ttest: 0.0122580\tbest: 0.0122580 (940)\ttotal: 3m 5s\tremaining: 13m 19s\n",
      "960:\tlearn: 0.0120505\ttest: 0.0122400\tbest: 0.0122400 (960)\ttotal: 3m 8s\tremaining: 13m 13s\n",
      "980:\tlearn: 0.0120186\ttest: 0.0122208\tbest: 0.0122203 (975)\ttotal: 3m 12s\tremaining: 13m 7s\n",
      "1000:\tlearn: 0.0119830\ttest: 0.0121961\tbest: 0.0121961 (1000)\ttotal: 3m 15s\tremaining: 13m 2s\n",
      "1020:\tlearn: 0.0119553\ttest: 0.0121827\tbest: 0.0121827 (1020)\ttotal: 3m 20s\tremaining: 12m 59s\n",
      "1040:\tlearn: 0.0119234\ttest: 0.0121676\tbest: 0.0121673 (1038)\ttotal: 3m 24s\tremaining: 12m 56s\n",
      "1060:\tlearn: 0.0118903\ttest: 0.0121512\tbest: 0.0121512 (1060)\ttotal: 3m 28s\tremaining: 12m 52s\n",
      "1080:\tlearn: 0.0118462\ttest: 0.0121169\tbest: 0.0121169 (1080)\ttotal: 3m 31s\tremaining: 12m 48s\n",
      "1100:\tlearn: 0.0118211\ttest: 0.0121025\tbest: 0.0121025 (1100)\ttotal: 3m 35s\tremaining: 12m 42s\n",
      "1120:\tlearn: 0.0117861\ttest: 0.0120844\tbest: 0.0120844 (1120)\ttotal: 3m 39s\tremaining: 12m 40s\n",
      "1140:\tlearn: 0.0117581\ttest: 0.0120742\tbest: 0.0120742 (1140)\ttotal: 3m 43s\tremaining: 12m 36s\n",
      "1160:\tlearn: 0.0117295\ttest: 0.0120613\tbest: 0.0120613 (1160)\ttotal: 3m 47s\tremaining: 12m 33s\n",
      "1180:\tlearn: 0.0116986\ttest: 0.0120486\tbest: 0.0120486 (1180)\ttotal: 3m 51s\tremaining: 12m 28s\n",
      "1200:\tlearn: 0.0116715\ttest: 0.0120375\tbest: 0.0120375 (1200)\ttotal: 3m 54s\tremaining: 12m 23s\n",
      "1220:\tlearn: 0.0116463\ttest: 0.0120261\tbest: 0.0120261 (1220)\ttotal: 3m 58s\tremaining: 12m 18s\n",
      "1240:\tlearn: 0.0116176\ttest: 0.0120166\tbest: 0.0120166 (1240)\ttotal: 4m 2s\tremaining: 12m 13s\n",
      "1260:\tlearn: 0.0115837\ttest: 0.0119958\tbest: 0.0119958 (1260)\ttotal: 4m 6s\tremaining: 12m 11s\n",
      "1280:\tlearn: 0.0115531\ttest: 0.0119794\tbest: 0.0119794 (1280)\ttotal: 4m 10s\tremaining: 12m 7s\n",
      "1300:\tlearn: 0.0115320\ttest: 0.0119698\tbest: 0.0119697 (1298)\ttotal: 4m 14s\tremaining: 12m 2s\n",
      "1320:\tlearn: 0.0115047\ttest: 0.0119574\tbest: 0.0119574 (1320)\ttotal: 4m 18s\tremaining: 11m 59s\n",
      "1340:\tlearn: 0.0114807\ttest: 0.0119468\tbest: 0.0119468 (1340)\ttotal: 4m 21s\tremaining: 11m 54s\n",
      "1360:\tlearn: 0.0114578\ttest: 0.0119390\tbest: 0.0119390 (1360)\ttotal: 4m 25s\tremaining: 11m 50s\n",
      "1380:\tlearn: 0.0114273\ttest: 0.0119263\tbest: 0.0119263 (1380)\ttotal: 4m 29s\tremaining: 11m 45s\n",
      "1400:\tlearn: 0.0114047\ttest: 0.0119144\tbest: 0.0119144 (1400)\ttotal: 4m 32s\tremaining: 11m 41s\n",
      "1420:\tlearn: 0.0113815\ttest: 0.0119065\tbest: 0.0119065 (1420)\ttotal: 4m 37s\tremaining: 11m 38s\n",
      "1440:\tlearn: 0.0113610\ttest: 0.0118995\tbest: 0.0118994 (1439)\ttotal: 4m 41s\tremaining: 11m 34s\n",
      "1460:\tlearn: 0.0113400\ttest: 0.0118938\tbest: 0.0118935 (1459)\ttotal: 4m 45s\tremaining: 11m 30s\n",
      "1480:\tlearn: 0.0113189\ttest: 0.0118914\tbest: 0.0118914 (1470)\ttotal: 4m 48s\tremaining: 11m 26s\n",
      "1500:\tlearn: 0.0112963\ttest: 0.0118828\tbest: 0.0118828 (1500)\ttotal: 4m 52s\tremaining: 11m 21s\n",
      "1520:\tlearn: 0.0112749\ttest: 0.0118738\tbest: 0.0118738 (1520)\ttotal: 4m 57s\tremaining: 11m 19s\n",
      "1540:\tlearn: 0.0112510\ttest: 0.0118646\tbest: 0.0118646 (1540)\ttotal: 5m\tremaining: 11m 15s\n",
      "1560:\tlearn: 0.0112344\ttest: 0.0118565\tbest: 0.0118565 (1560)\ttotal: 5m 4s\tremaining: 11m 10s\n",
      "1580:\tlearn: 0.0112046\ttest: 0.0118391\tbest: 0.0118391 (1580)\ttotal: 5m 8s\tremaining: 11m 6s\n",
      "1600:\tlearn: 0.0111827\ttest: 0.0118288\tbest: 0.0118287 (1599)\ttotal: 5m 11s\tremaining: 11m 1s\n",
      "1620:\tlearn: 0.0111610\ttest: 0.0118221\tbest: 0.0118221 (1620)\ttotal: 5m 15s\tremaining: 10m 56s\n",
      "1640:\tlearn: 0.0111416\ttest: 0.0118106\tbest: 0.0118104 (1639)\ttotal: 5m 18s\tremaining: 10m 52s\n",
      "1660:\tlearn: 0.0111198\ttest: 0.0118016\tbest: 0.0118016 (1660)\ttotal: 5m 22s\tremaining: 10m 47s\n",
      "1680:\tlearn: 0.0111036\ttest: 0.0117969\tbest: 0.0117969 (1680)\ttotal: 5m 25s\tremaining: 10m 43s\n",
      "1700:\tlearn: 0.0110796\ttest: 0.0117868\tbest: 0.0117865 (1698)\ttotal: 5m 29s\tremaining: 10m 38s\n",
      "1720:\tlearn: 0.0110588\ttest: 0.0117731\tbest: 0.0117731 (1720)\ttotal: 5m 32s\tremaining: 10m 34s\n",
      "1740:\tlearn: 0.0110410\ttest: 0.0117659\tbest: 0.0117657 (1738)\ttotal: 5m 36s\tremaining: 10m 29s\n",
      "1760:\tlearn: 0.0110190\ttest: 0.0117613\tbest: 0.0117613 (1759)\ttotal: 5m 39s\tremaining: 10m 25s\n",
      "1780:\tlearn: 0.0109951\ttest: 0.0117498\tbest: 0.0117498 (1780)\ttotal: 5m 43s\tremaining: 10m 20s\n",
      "1800:\tlearn: 0.0109696\ttest: 0.0117352\tbest: 0.0117352 (1800)\ttotal: 5m 47s\tremaining: 10m 16s\n",
      "1820:\tlearn: 0.0109534\ttest: 0.0117285\tbest: 0.0117285 (1819)\ttotal: 5m 50s\tremaining: 10m 12s\n",
      "1840:\tlearn: 0.0109327\ttest: 0.0117204\tbest: 0.0117204 (1840)\ttotal: 5m 54s\tremaining: 10m 8s\n",
      "1860:\tlearn: 0.0109165\ttest: 0.0117135\tbest: 0.0117135 (1860)\ttotal: 5m 59s\tremaining: 10m 5s\n",
      "1880:\tlearn: 0.0108964\ttest: 0.0117060\tbest: 0.0117060 (1880)\ttotal: 6m 2s\tremaining: 10m 1s\n",
      "1900:\tlearn: 0.0108821\ttest: 0.0116997\tbest: 0.0116997 (1900)\ttotal: 6m 6s\tremaining: 9m 57s\n",
      "1920:\tlearn: 0.0108567\ttest: 0.0116871\tbest: 0.0116870 (1919)\ttotal: 6m 10s\tremaining: 9m 53s\n",
      "1940:\tlearn: 0.0108411\ttest: 0.0116819\tbest: 0.0116819 (1940)\ttotal: 6m 14s\tremaining: 9m 49s\n",
      "1960:\tlearn: 0.0108232\ttest: 0.0116729\tbest: 0.0116729 (1960)\ttotal: 6m 18s\tremaining: 9m 45s\n",
      "1980:\tlearn: 0.0108035\ttest: 0.0116653\tbest: 0.0116652 (1979)\ttotal: 6m 21s\tremaining: 9m 41s\n",
      "2000:\tlearn: 0.0107880\ttest: 0.0116580\tbest: 0.0116580 (2000)\ttotal: 6m 25s\tremaining: 9m 37s\n",
      "2020:\tlearn: 0.0107740\ttest: 0.0116537\tbest: 0.0116537 (2020)\ttotal: 6m 29s\tremaining: 9m 33s\n",
      "2040:\tlearn: 0.0107556\ttest: 0.0116478\tbest: 0.0116478 (2039)\ttotal: 6m 34s\tremaining: 9m 31s\n",
      "2060:\tlearn: 0.0107390\ttest: 0.0116429\tbest: 0.0116424 (2057)\ttotal: 6m 37s\tremaining: 9m 26s\n",
      "2080:\tlearn: 0.0107176\ttest: 0.0116304\tbest: 0.0116300 (2079)\ttotal: 6m 41s\tremaining: 9m 22s\n",
      "2100:\tlearn: 0.0107045\ttest: 0.0116264\tbest: 0.0116264 (2100)\ttotal: 6m 45s\tremaining: 9m 19s\n",
      "2120:\tlearn: 0.0106873\ttest: 0.0116215\tbest: 0.0116215 (2120)\ttotal: 6m 50s\tremaining: 9m 16s\n",
      "2140:\tlearn: 0.0106721\ttest: 0.0116159\tbest: 0.0116159 (2140)\ttotal: 6m 53s\tremaining: 9m 12s\n",
      "2160:\tlearn: 0.0106545\ttest: 0.0116113\tbest: 0.0116109 (2157)\ttotal: 6m 57s\tremaining: 9m 8s\n",
      "2180:\tlearn: 0.0106371\ttest: 0.0116045\tbest: 0.0116045 (2180)\ttotal: 7m 1s\tremaining: 9m 4s\n",
      "2200:\tlearn: 0.0106238\ttest: 0.0115991\tbest: 0.0115991 (2200)\ttotal: 7m 5s\tremaining: 9m\n",
      "2220:\tlearn: 0.0106091\ttest: 0.0115946\tbest: 0.0115946 (2220)\ttotal: 7m 8s\tremaining: 8m 56s\n",
      "2240:\tlearn: 0.0105957\ttest: 0.0115893\tbest: 0.0115893 (2240)\ttotal: 7m 12s\tremaining: 8m 52s\n",
      "2260:\tlearn: 0.0105787\ttest: 0.0115845\tbest: 0.0115835 (2253)\ttotal: 7m 15s\tremaining: 8m 48s\n",
      "2280:\tlearn: 0.0105625\ttest: 0.0115788\tbest: 0.0115788 (2280)\ttotal: 7m 19s\tremaining: 8m 44s\n",
      "2300:\tlearn: 0.0105434\ttest: 0.0115709\tbest: 0.0115705 (2298)\ttotal: 7m 24s\tremaining: 8m 40s\n",
      "2320:\tlearn: 0.0105271\ttest: 0.0115637\tbest: 0.0115637 (2320)\ttotal: 7m 27s\tremaining: 8m 36s\n",
      "2340:\tlearn: 0.0105150\ttest: 0.0115596\tbest: 0.0115596 (2340)\ttotal: 7m 31s\tremaining: 8m 32s\n",
      "2360:\tlearn: 0.0104999\ttest: 0.0115574\tbest: 0.0115574 (2360)\ttotal: 7m 34s\tremaining: 8m 28s\n",
      "2380:\tlearn: 0.0104871\ttest: 0.0115515\tbest: 0.0115515 (2380)\ttotal: 7m 38s\tremaining: 8m 24s\n",
      "2400:\tlearn: 0.0104714\ttest: 0.0115453\tbest: 0.0115453 (2400)\ttotal: 7m 42s\tremaining: 8m 20s\n",
      "2420:\tlearn: 0.0104607\ttest: 0.0115443\tbest: 0.0115443 (2420)\ttotal: 7m 46s\tremaining: 8m 17s\n",
      "2440:\tlearn: 0.0104437\ttest: 0.0115375\tbest: 0.0115375 (2440)\ttotal: 7m 50s\tremaining: 8m 13s\n",
      "2460:\tlearn: 0.0104283\ttest: 0.0115316\tbest: 0.0115316 (2460)\ttotal: 7m 54s\tremaining: 8m 9s\n",
      "2480:\tlearn: 0.0104129\ttest: 0.0115265\tbest: 0.0115265 (2480)\ttotal: 7m 58s\tremaining: 8m 5s\n",
      "2500:\tlearn: 0.0103978\ttest: 0.0115212\tbest: 0.0115212 (2497)\ttotal: 8m 1s\tremaining: 8m 1s\n",
      "2520:\tlearn: 0.0103848\ttest: 0.0115173\tbest: 0.0115169 (2514)\ttotal: 8m 6s\tremaining: 7m 58s\n",
      "2540:\tlearn: 0.0103682\ttest: 0.0115129\tbest: 0.0115129 (2540)\ttotal: 8m 10s\tremaining: 7m 54s\n",
      "2560:\tlearn: 0.0103547\ttest: 0.0115122\tbest: 0.0115112 (2545)\ttotal: 8m 13s\tremaining: 7m 50s\n",
      "2580:\tlearn: 0.0103389\ttest: 0.0115053\tbest: 0.0115053 (2580)\ttotal: 8m 17s\tremaining: 7m 46s\n",
      "2600:\tlearn: 0.0103243\ttest: 0.0114984\tbest: 0.0114984 (2600)\ttotal: 8m 21s\tremaining: 7m 42s\n",
      "2620:\tlearn: 0.0103106\ttest: 0.0114944\tbest: 0.0114944 (2620)\ttotal: 8m 24s\tremaining: 7m 38s\n",
      "2640:\tlearn: 0.0102979\ttest: 0.0114896\tbest: 0.0114894 (2638)\ttotal: 8m 28s\tremaining: 7m 34s\n",
      "2660:\tlearn: 0.0102839\ttest: 0.0114863\tbest: 0.0114863 (2660)\ttotal: 8m 32s\tremaining: 7m 30s\n",
      "2680:\tlearn: 0.0102698\ttest: 0.0114818\tbest: 0.0114817 (2678)\ttotal: 8m 36s\tremaining: 7m 27s\n",
      "2700:\tlearn: 0.0102566\ttest: 0.0114815\tbest: 0.0114815 (2700)\ttotal: 8m 40s\tremaining: 7m 23s\n",
      "2720:\tlearn: 0.0102428\ttest: 0.0114796\tbest: 0.0114796 (2720)\ttotal: 8m 44s\tremaining: 7m 18s\n",
      "2740:\tlearn: 0.0102324\ttest: 0.0114772\tbest: 0.0114768 (2735)\ttotal: 8m 47s\tremaining: 7m 14s\n",
      "2760:\tlearn: 0.0102188\ttest: 0.0114745\tbest: 0.0114744 (2759)\ttotal: 8m 51s\tremaining: 7m 11s\n",
      "2780:\tlearn: 0.0102060\ttest: 0.0114708\tbest: 0.0114699 (2777)\ttotal: 8m 55s\tremaining: 7m 6s\n",
      "2800:\tlearn: 0.0101935\ttest: 0.0114679\tbest: 0.0114674 (2796)\ttotal: 9m 1s\tremaining: 7m 4s\n",
      "2820:\tlearn: 0.0101821\ttest: 0.0114665\tbest: 0.0114665 (2817)\ttotal: 9m 5s\tremaining: 7m 1s\n",
      "2840:\tlearn: 0.0101697\ttest: 0.0114635\tbest: 0.0114631 (2839)\ttotal: 9m 7s\tremaining: 6m 56s\n",
      "2860:\tlearn: 0.0101588\ttest: 0.0114612\tbest: 0.0114610 (2858)\ttotal: 9m 12s\tremaining: 6m 52s\n",
      "2880:\tlearn: 0.0101465\ttest: 0.0114550\tbest: 0.0114548 (2879)\ttotal: 9m 17s\tremaining: 6m 49s\n",
      "2900:\tlearn: 0.0101334\ttest: 0.0114530\tbest: 0.0114528 (2899)\ttotal: 9m 21s\tremaining: 6m 46s\n",
      "2920:\tlearn: 0.0101188\ttest: 0.0114493\tbest: 0.0114493 (2920)\ttotal: 9m 25s\tremaining: 6m 42s\n",
      "2940:\tlearn: 0.0101052\ttest: 0.0114468\tbest: 0.0114468 (2940)\ttotal: 9m 29s\tremaining: 6m 38s\n",
      "2960:\tlearn: 0.0100958\ttest: 0.0114467\tbest: 0.0114462 (2942)\ttotal: 9m 32s\tremaining: 6m 34s\n",
      "2980:\tlearn: 0.0100825\ttest: 0.0114421\tbest: 0.0114421 (2980)\ttotal: 9m 35s\tremaining: 6m 29s\n",
      "3000:\tlearn: 0.0100679\ttest: 0.0114366\tbest: 0.0114366 (3000)\ttotal: 9m 38s\tremaining: 6m 25s\n",
      "3020:\tlearn: 0.0100558\ttest: 0.0114323\tbest: 0.0114323 (3020)\ttotal: 9m 50s\tremaining: 6m 27s\n",
      "3040:\tlearn: 0.0100428\ttest: 0.0114312\tbest: 0.0114306 (3028)\ttotal: 10m 6s\tremaining: 6m 30s\n",
      "3060:\tlearn: 0.0100314\ttest: 0.0114305\tbest: 0.0114305 (3060)\ttotal: 10m 19s\tremaining: 6m 32s\n",
      "3080:\tlearn: 0.0100206\ttest: 0.0114264\tbest: 0.0114264 (3080)\ttotal: 10m 34s\tremaining: 6m 34s\n",
      "3100:\tlearn: 0.0100100\ttest: 0.0114252\tbest: 0.0114248 (3093)\ttotal: 10m 50s\tremaining: 6m 38s\n",
      "3120:\tlearn: 0.0099977\ttest: 0.0114233\tbest: 0.0114223 (3118)\ttotal: 10m 58s\tremaining: 6m 36s\n",
      "3140:\tlearn: 0.0099874\ttest: 0.0114230\tbest: 0.0114223 (3118)\ttotal: 11m 8s\tremaining: 6m 35s\n",
      "3160:\tlearn: 0.0099758\ttest: 0.0114196\tbest: 0.0114195 (3159)\ttotal: 11m 13s\tremaining: 6m 31s\n",
      "3180:\tlearn: 0.0099654\ttest: 0.0114180\tbest: 0.0114180 (3180)\ttotal: 11m 16s\tremaining: 6m 26s\n",
      "3200:\tlearn: 0.0099541\ttest: 0.0114146\tbest: 0.0114146 (3200)\ttotal: 11m 19s\tremaining: 6m 22s\n",
      "3220:\tlearn: 0.0099436\ttest: 0.0114148\tbest: 0.0114137 (3210)\ttotal: 11m 22s\tremaining: 6m 16s\n",
      "3240:\tlearn: 0.0099324\ttest: 0.0114133\tbest: 0.0114128 (3233)\ttotal: 11m 25s\tremaining: 6m 11s\n",
      "3260:\tlearn: 0.0099189\ttest: 0.0114077\tbest: 0.0114077 (3260)\ttotal: 11m 27s\tremaining: 6m 6s\n",
      "3280:\tlearn: 0.0099048\ttest: 0.0114026\tbest: 0.0114026 (3279)\ttotal: 11m 30s\tremaining: 6m 1s\n",
      "3300:\tlearn: 0.0098923\ttest: 0.0113993\tbest: 0.0113993 (3300)\ttotal: 11m 32s\tremaining: 5m 56s\n",
      "3320:\tlearn: 0.0098809\ttest: 0.0113982\tbest: 0.0113980 (3314)\ttotal: 11m 35s\tremaining: 5m 51s\n",
      "3340:\tlearn: 0.0098700\ttest: 0.0113943\tbest: 0.0113943 (3340)\ttotal: 11m 38s\tremaining: 5m 46s\n",
      "3360:\tlearn: 0.0098581\ttest: 0.0113937\tbest: 0.0113931 (3356)\ttotal: 11m 40s\tremaining: 5m 41s\n",
      "3380:\tlearn: 0.0098462\ttest: 0.0113909\tbest: 0.0113902 (3374)\ttotal: 11m 43s\tremaining: 5m 36s\n",
      "3400:\tlearn: 0.0098357\ttest: 0.0113871\tbest: 0.0113871 (3400)\ttotal: 11m 46s\tremaining: 5m 31s\n",
      "3420:\tlearn: 0.0098248\ttest: 0.0113847\tbest: 0.0113846 (3419)\ttotal: 11m 48s\tremaining: 5m 27s\n",
      "3440:\tlearn: 0.0098123\ttest: 0.0113803\tbest: 0.0113803 (3440)\ttotal: 11m 54s\tremaining: 5m 23s\n",
      "3460:\tlearn: 0.0098013\ttest: 0.0113780\tbest: 0.0113780 (3460)\ttotal: 12m 4s\tremaining: 5m 22s\n",
      "3480:\tlearn: 0.0097901\ttest: 0.0113757\tbest: 0.0113753 (3477)\ttotal: 12m 8s\tremaining: 5m 17s\n",
      "3500:\tlearn: 0.0097781\ttest: 0.0113732\tbest: 0.0113732 (3500)\ttotal: 12m 14s\tremaining: 5m 14s\n",
      "3520:\tlearn: 0.0097659\ttest: 0.0113711\tbest: 0.0113711 (3520)\ttotal: 12m 19s\tremaining: 5m 10s\n",
      "3540:\tlearn: 0.0097579\ttest: 0.0113708\tbest: 0.0113706 (3525)\ttotal: 12m 23s\tremaining: 5m 6s\n",
      "3560:\tlearn: 0.0097469\ttest: 0.0113711\tbest: 0.0113697 (3547)\ttotal: 12m 27s\tremaining: 5m 2s\n",
      "3580:\tlearn: 0.0097373\ttest: 0.0113693\tbest: 0.0113693 (3580)\ttotal: 12m 31s\tremaining: 4m 57s\n",
      "3600:\tlearn: 0.0097269\ttest: 0.0113663\tbest: 0.0113663 (3600)\ttotal: 12m 35s\tremaining: 4m 53s\n",
      "3620:\tlearn: 0.0097155\ttest: 0.0113655\tbest: 0.0113654 (3619)\ttotal: 12m 39s\tremaining: 4m 49s\n",
      "3640:\tlearn: 0.0097040\ttest: 0.0113648\tbest: 0.0113647 (3636)\ttotal: 12m 42s\tremaining: 4m 44s\n",
      "3660:\tlearn: 0.0096931\ttest: 0.0113614\tbest: 0.0113613 (3659)\ttotal: 12m 47s\tremaining: 4m 40s\n",
      "3680:\tlearn: 0.0096839\ttest: 0.0113586\tbest: 0.0113586 (3680)\ttotal: 12m 51s\tremaining: 4m 36s\n",
      "3700:\tlearn: 0.0096722\ttest: 0.0113537\tbest: 0.0113537 (3698)\ttotal: 12m 55s\tremaining: 4m 32s\n",
      "3720:\tlearn: 0.0096620\ttest: 0.0113528\tbest: 0.0113523 (3712)\ttotal: 12m 59s\tremaining: 4m 27s\n",
      "3740:\tlearn: 0.0096517\ttest: 0.0113519\tbest: 0.0113517 (3728)\ttotal: 13m 3s\tremaining: 4m 23s\n",
      "3760:\tlearn: 0.0096404\ttest: 0.0113477\tbest: 0.0113467 (3757)\ttotal: 13m 8s\tremaining: 4m 19s\n",
      "3780:\tlearn: 0.0096300\ttest: 0.0113461\tbest: 0.0113461 (3780)\ttotal: 13m 12s\tremaining: 4m 15s\n",
      "3800:\tlearn: 0.0096206\ttest: 0.0113449\tbest: 0.0113445 (3797)\ttotal: 13m 16s\tremaining: 4m 11s\n",
      "3820:\tlearn: 0.0096102\ttest: 0.0113413\tbest: 0.0113411 (3819)\ttotal: 13m 19s\tremaining: 4m 6s\n",
      "3840:\tlearn: 0.0096019\ttest: 0.0113403\tbest: 0.0113397 (3835)\ttotal: 13m 23s\tremaining: 4m 2s\n",
      "3860:\tlearn: 0.0095921\ttest: 0.0113398\tbest: 0.0113395 (3853)\ttotal: 13m 27s\tremaining: 3m 58s\n",
      "3880:\tlearn: 0.0095833\ttest: 0.0113389\tbest: 0.0113385 (3877)\ttotal: 13m 31s\tremaining: 3m 53s\n",
      "3900:\tlearn: 0.0095743\ttest: 0.0113363\tbest: 0.0113363 (3896)\ttotal: 13m 34s\tremaining: 3m 49s\n",
      "3920:\tlearn: 0.0095623\ttest: 0.0113320\tbest: 0.0113320 (3920)\ttotal: 13m 38s\tremaining: 3m 45s\n",
      "3940:\tlearn: 0.0095518\ttest: 0.0113319\tbest: 0.0113314 (3938)\ttotal: 13m 41s\tremaining: 3m 40s\n",
      "3960:\tlearn: 0.0095408\ttest: 0.0113283\tbest: 0.0113283 (3960)\ttotal: 13m 45s\tremaining: 3m 36s\n",
      "3980:\tlearn: 0.0095310\ttest: 0.0113283\tbest: 0.0113275 (3972)\ttotal: 13m 49s\tremaining: 3m 32s\n",
      "4000:\tlearn: 0.0095218\ttest: 0.0113258\tbest: 0.0113258 (4000)\ttotal: 13m 53s\tremaining: 3m 28s\n",
      "4020:\tlearn: 0.0095141\ttest: 0.0113253\tbest: 0.0113252 (4013)\ttotal: 13m 56s\tremaining: 3m 23s\n",
      "4040:\tlearn: 0.0095044\ttest: 0.0113238\tbest: 0.0113237 (4039)\ttotal: 14m\tremaining: 3m 19s\n",
      "4060:\tlearn: 0.0094946\ttest: 0.0113228\tbest: 0.0113228 (4060)\ttotal: 14m 4s\tremaining: 3m 15s\n",
      "4080:\tlearn: 0.0094846\ttest: 0.0113197\tbest: 0.0113196 (4079)\ttotal: 14m 7s\tremaining: 3m 10s\n",
      "4100:\tlearn: 0.0094739\ttest: 0.0113163\tbest: 0.0113160 (4098)\ttotal: 14m 11s\tremaining: 3m 6s\n",
      "4120:\tlearn: 0.0094623\ttest: 0.0113145\tbest: 0.0113139 (4113)\ttotal: 14m 17s\tremaining: 3m 2s\n",
      "4140:\tlearn: 0.0094530\ttest: 0.0113131\tbest: 0.0113126 (4134)\ttotal: 14m 21s\tremaining: 2m 58s\n",
      "4160:\tlearn: 0.0094458\ttest: 0.0113150\tbest: 0.0113126 (4134)\ttotal: 14m 24s\tremaining: 2m 54s\n",
      "4180:\tlearn: 0.0094372\ttest: 0.0113140\tbest: 0.0113126 (4134)\ttotal: 14m 29s\tremaining: 2m 50s\n",
      "4200:\tlearn: 0.0094286\ttest: 0.0113141\tbest: 0.0113126 (4134)\ttotal: 14m 36s\tremaining: 2m 46s\n",
      "4220:\tlearn: 0.0094193\ttest: 0.0113129\tbest: 0.0113123 (4216)\ttotal: 14m 40s\tremaining: 2m 42s\n",
      "4240:\tlearn: 0.0094127\ttest: 0.0113108\tbest: 0.0113108 (4240)\ttotal: 14m 44s\tremaining: 2m 38s\n",
      "4260:\tlearn: 0.0094024\ttest: 0.0113099\tbest: 0.0113099 (4260)\ttotal: 14m 51s\tremaining: 2m 34s\n",
      "4280:\tlearn: 0.0093952\ttest: 0.0113076\tbest: 0.0113075 (4279)\ttotal: 15m 4s\tremaining: 2m 31s\n",
      "4300:\tlearn: 0.0093855\ttest: 0.0113071\tbest: 0.0113068 (4286)\ttotal: 15m 16s\tremaining: 2m 28s\n",
      "4320:\tlearn: 0.0093771\ttest: 0.0113073\tbest: 0.0113067 (4304)\ttotal: 15m 27s\tremaining: 2m 25s\n",
      "4340:\tlearn: 0.0093680\ttest: 0.0113053\tbest: 0.0113053 (4340)\ttotal: 15m 38s\tremaining: 2m 22s\n",
      "4360:\tlearn: 0.0093603\ttest: 0.0113059\tbest: 0.0113050 (4344)\ttotal: 15m 46s\tremaining: 2m 18s\n",
      "4380:\tlearn: 0.0093514\ttest: 0.0113046\tbest: 0.0113045 (4376)\ttotal: 15m 51s\tremaining: 2m 14s\n",
      "4400:\tlearn: 0.0093437\ttest: 0.0113044\tbest: 0.0113044 (4400)\ttotal: 15m 55s\tremaining: 2m 9s\n",
      "4420:\tlearn: 0.0093357\ttest: 0.0113035\tbest: 0.0113034 (4408)\ttotal: 15m 58s\tremaining: 2m 5s\n",
      "4440:\tlearn: 0.0093259\ttest: 0.0112996\tbest: 0.0112996 (4440)\ttotal: 16m 2s\tremaining: 2m 1s\n",
      "4460:\tlearn: 0.0093193\ttest: 0.0113004\tbest: 0.0112995 (4449)\ttotal: 16m 7s\tremaining: 1m 56s\n",
      "4480:\tlearn: 0.0093115\ttest: 0.0112990\tbest: 0.0112990 (4480)\ttotal: 16m 12s\tremaining: 1m 52s\n",
      "4500:\tlearn: 0.0093034\ttest: 0.0112975\tbest: 0.0112973 (4498)\ttotal: 16m 15s\tremaining: 1m 48s\n",
      "4520:\tlearn: 0.0092954\ttest: 0.0112948\tbest: 0.0112948 (4519)\ttotal: 16m 19s\tremaining: 1m 43s\n",
      "4540:\tlearn: 0.0092876\ttest: 0.0112927\tbest: 0.0112927 (4539)\ttotal: 16m 23s\tremaining: 1m 39s\n",
      "4560:\tlearn: 0.0092791\ttest: 0.0112933\tbest: 0.0112920 (4553)\ttotal: 16m 27s\tremaining: 1m 35s\n",
      "4580:\tlearn: 0.0092707\ttest: 0.0112912\tbest: 0.0112909 (4579)\ttotal: 16m 31s\tremaining: 1m 30s\n",
      "4600:\tlearn: 0.0092598\ttest: 0.0112891\tbest: 0.0112890 (4598)\ttotal: 16m 35s\tremaining: 1m 26s\n",
      "4620:\tlearn: 0.0092488\ttest: 0.0112872\tbest: 0.0112872 (4620)\ttotal: 16m 39s\tremaining: 1m 21s\n",
      "4640:\tlearn: 0.0092417\ttest: 0.0112875\tbest: 0.0112869 (4636)\ttotal: 16m 43s\tremaining: 1m 17s\n",
      "4660:\tlearn: 0.0092323\ttest: 0.0112867\tbest: 0.0112866 (4658)\ttotal: 16m 47s\tremaining: 1m 13s\n",
      "4680:\tlearn: 0.0092217\ttest: 0.0112880\tbest: 0.0112864 (4661)\ttotal: 16m 51s\tremaining: 1m 8s\n",
      "4700:\tlearn: 0.0092149\ttest: 0.0112878\tbest: 0.0112864 (4661)\ttotal: 16m 55s\tremaining: 1m 4s\n",
      "4720:\tlearn: 0.0092064\ttest: 0.0112875\tbest: 0.0112864 (4661)\ttotal: 17m\tremaining: 1m\n",
      "4740:\tlearn: 0.0091976\ttest: 0.0112857\tbest: 0.0112856 (4737)\ttotal: 17m 4s\tremaining: 56s\n",
      "4760:\tlearn: 0.0091899\ttest: 0.0112853\tbest: 0.0112853 (4760)\ttotal: 17m 8s\tremaining: 51.6s\n",
      "4780:\tlearn: 0.0091819\ttest: 0.0112831\tbest: 0.0112831 (4780)\ttotal: 17m 12s\tremaining: 47.3s\n",
      "4800:\tlearn: 0.0091728\ttest: 0.0112821\tbest: 0.0112820 (4796)\ttotal: 17m 16s\tremaining: 43s\n",
      "4820:\tlearn: 0.0091631\ttest: 0.0112797\tbest: 0.0112797 (4820)\ttotal: 17m 20s\tremaining: 38.6s\n",
      "4840:\tlearn: 0.0091538\ttest: 0.0112786\tbest: 0.0112786 (4840)\ttotal: 17m 23s\tremaining: 34.3s\n",
      "4860:\tlearn: 0.0091434\ttest: 0.0112777\tbest: 0.0112773 (4856)\ttotal: 17m 27s\tremaining: 29.9s\n",
      "4880:\tlearn: 0.0091362\ttest: 0.0112760\tbest: 0.0112760 (4880)\ttotal: 17m 30s\tremaining: 25.6s\n",
      "4900:\tlearn: 0.0091284\ttest: 0.0112755\tbest: 0.0112750 (4883)\ttotal: 17m 34s\tremaining: 21.3s\n",
      "4920:\tlearn: 0.0091196\ttest: 0.0112758\tbest: 0.0112750 (4883)\ttotal: 17m 38s\tremaining: 17s\n",
      "4940:\tlearn: 0.0091108\ttest: 0.0112744\tbest: 0.0112741 (4935)\ttotal: 17m 42s\tremaining: 12.7s\n",
      "4960:\tlearn: 0.0091040\ttest: 0.0112735\tbest: 0.0112732 (4956)\ttotal: 17m 47s\tremaining: 8.39s\n",
      "4980:\tlearn: 0.0090959\ttest: 0.0112747\tbest: 0.0112732 (4956)\ttotal: 17m 51s\tremaining: 4.09s\n",
      "4999:\tlearn: 0.0090874\ttest: 0.0112734\tbest: 0.0112729 (4997)\ttotal: 17m 56s\tremaining: 0us\n",
      "\n",
      "bestTest = 0.01127288443\n",
      "bestIteration = 4997\n",
      "\n",
      "Shrink model to first 4998 iterations.\n"
     ]
    }
   ],
   "source": [
    "# проверено 15.97% cat_features_ids=\n",
    "# ['model_name', 'enginePower', 'brand', 'name', 'vehicleConfiguration', 'engineDisplacement', 'bodyType']\n",
    "# ['bodyType', 'brand', 'name', 'enginePower', 'vehicleConfiguration', 'model_name', 'engineDisplacement', 'color']\n",
    "# ['bodyType', 'brand', 'name', 'enginePower', 'vehicleConfiguration', 'numberOfDoors', 'model_name', 'engineDisplacement', 'color']\n",
    "model = CatBoostRegressor(iterations = 5000,\n",
    "                          random_seed = RANDOM_SEED,\n",
    "                          eval_metric='MAPE',\n",
    "                          custom_metric=['R2', 'MAE'],\n",
    "                          silent=True,\n",
    "                         )\n",
    "model.fit(X_train, np.log(y_train),\n",
    "         cat_features=cat_features_ids,\n",
    "         eval_set=(X_test, np.log(y_test)),\n",
    "         verbose_eval=20,\n",
    "         use_best_model=True,\n",
    "        #  plot=True\n",
    "         )\n",
    "\n",
    "model.save_model('catboost_single_model_2_baseline.model')"
   ]
  },
  {
   "cell_type": "code",
   "execution_count": 10,
   "metadata": {},
   "outputs": [
    {
     "name": "stdout",
     "output_type": "stream",
     "text": [
      "Точность модели по метрике MAPE: 15.86%\n"
     ]
    }
   ],
   "source": [
    "predict_test = np.exp(model.predict(X_test))\n",
    "predict_submission = np.exp(model.predict(X_sub))\n",
    "print(f\"Точность модели по метрике MAPE: {(mape(y_test, predict_test))*100:0.2f}%\")"
   ]
  },
  {
   "cell_type": "markdown",
   "metadata": {},
   "source": [
    "Как видим точность возросла до 15%, а что будет на ЛБ?"
   ]
  },
  {
   "cell_type": "markdown",
   "metadata": {
    "papermill": {
     "duration": 0.085876,
     "end_time": "2020-10-26T12:48:12.734207",
     "exception": false,
     "start_time": "2020-10-26T12:48:12.648331",
     "status": "completed"
    },
    "tags": []
   },
   "source": [
    "# Submission"
   ]
  },
  {
   "cell_type": "code",
   "execution_count": 17,
   "metadata": {
    "execution": {
     "iopub.execute_input": "2020-10-26T12:48:13.227584Z",
     "iopub.status.busy": "2020-10-26T12:48:13.226285Z",
     "iopub.status.idle": "2020-10-26T12:48:13.762529Z",
     "shell.execute_reply": "2020-10-26T12:48:13.763259Z"
    },
    "papermill": {
     "duration": 0.628302,
     "end_time": "2020-10-26T12:48:13.763488",
     "exception": false,
     "start_time": "2020-10-26T12:48:13.135186",
     "status": "completed"
    },
    "tags": []
   },
   "outputs": [
    {
     "name": "stdout",
     "output_type": "stream",
     "text": [
      "<class 'pandas.core.frame.DataFrame'>\n",
      "RangeIndex: 34686 entries, 0 to 34685\n",
      "Data columns (total 2 columns):\n",
      " #   Column   Non-Null Count  Dtype  \n",
      "---  ------   --------------  -----  \n",
      " 0   sell_id  34686 non-null  int64  \n",
      " 1   price    34686 non-null  float64\n",
      "dtypes: float64(1), int64(1)\n",
      "memory usage: 542.1 KB\n"
     ]
    }
   ],
   "source": [
    "sample_submission['price'] = predict_submission\n",
    "sample_submission.to_csv(f'submission_myds_v{VERSION}.csv', index=False)\n",
    "sample_submission.head(10)\n",
    "sample_submission.info()"
   ]
  },
  {
   "cell_type": "markdown",
   "metadata": {
    "papermill": {
     "duration": 0.083769,
     "end_time": "2020-10-26T12:48:13.930562",
     "exception": false,
     "start_time": "2020-10-26T12:48:13.846793",
     "status": "completed"
    },
    "tags": []
   },
   "source": [
    "В итоге получили **MAPE 27%** на ЛБ!\n",
    "\n",
    "Большая разница в ошибке может указывать на то что тест и трейн имеют различия по выборке или то что данные в трейне могли уже устареть и их нужно обновлять."
   ]
  },
  {
   "cell_type": "markdown",
   "metadata": {
    "papermill": {
     "duration": 0.087712,
     "end_time": "2020-10-26T12:48:14.104388",
     "exception": false,
     "start_time": "2020-10-26T12:48:14.016676",
     "status": "completed"
    },
    "tags": []
   },
   "source": [
    "# What's next?\n",
    "Или что еще можно сделать, чтоб улучшить результат:\n",
    "\n",
    "* Спарсить свежие данные \n",
    "* Посмотреть, что можно извлечь из признаков или как еще можно обработать признаки\n",
    "* Сгенерировать новые признаки\n",
    "* Попробовать подобрать параметры модели\n",
    "* Попробовать другие алгоритмы и библиотеки ML\n",
    "* Сделать Ансамбль моделей, Blending, Stacking"
   ]
  },
  {
   "cell_type": "markdown",
   "metadata": {},
   "source": [
    "Подробный чек лист: https://docs.google.com/spreadsheets/d/1I_ErM3U0Cs7Rs1obyZbIEGtVn-H47pHNCi4xdDgUmXY/edit?usp=sharing"
   ]
  },
  {
   "cell_type": "code",
   "execution_count": null,
   "metadata": {
    "papermill": {
     "duration": 0.082055,
     "end_time": "2020-10-26T12:48:14.270602",
     "exception": false,
     "start_time": "2020-10-26T12:48:14.188547",
     "status": "completed"
    },
    "tags": []
   },
   "outputs": [],
   "source": []
  },
  {
   "cell_type": "code",
   "execution_count": null,
   "metadata": {
    "papermill": {
     "duration": 0.08168,
     "end_time": "2020-10-26T12:48:14.435554",
     "exception": false,
     "start_time": "2020-10-26T12:48:14.353874",
     "status": "completed"
    },
    "tags": []
   },
   "outputs": [],
   "source": []
  },
  {
   "cell_type": "code",
   "execution_count": null,
   "metadata": {
    "papermill": {
     "duration": 0.080788,
     "end_time": "2020-10-26T12:48:14.596978",
     "exception": false,
     "start_time": "2020-10-26T12:48:14.51619",
     "status": "completed"
    },
    "tags": []
   },
   "outputs": [],
   "source": []
  }
 ],
 "metadata": {
  "kernelspec": {
   "display_name": "Python 3 (ipykernel)",
   "language": "python",
   "name": "python3"
  },
  "language_info": {
   "codemirror_mode": {
    "name": "ipython",
    "version": 3
   },
   "file_extension": ".py",
   "mimetype": "text/x-python",
   "name": "python",
   "nbconvert_exporter": "python",
   "pygments_lexer": "ipython3",
   "version": "3.9.7"
  }
 },
 "nbformat": 4,
 "nbformat_minor": 4
}
