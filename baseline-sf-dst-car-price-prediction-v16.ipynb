{
 "cells": [
  {
   "cell_type": "markdown",
   "metadata": {
    "papermill": {
     "duration": 0.029718,
     "end_time": "2020-10-26T12:46:41.276296",
     "exception": false,
     "start_time": "2020-10-26T12:46:41.246578",
     "status": "completed"
    },
    "tags": []
   },
   "source": [
    "<img src=\"https://whatcar.vn/media/2018/09/car-lot-940x470.jpg\"/>\n",
    "\n",
    "## Прогнозирование стоимости автомобиля по характеристикам\n",
    "*Этот Ноутбук является Примером/Шаблоном (Baseline) к этому соревнованию и не служит готовым решением!*   \n",
    "Вы можете использовать его как основу для построения своего решения.\n",
    "\n",
    "\n",
    "> **baseline** создается больше как шаблон, где можно посмотреть как происходит обращение с входящими данными и что нужно получить на выходе. При этом МЛ начинка может быть достаточно простой. Это помогает быстрее приступить к самому МЛ, а не тратить ценное время на чисто инженерные задачи. \n",
    "Также baseline является хорошей опорной точкой по метрике. Если твое решение хуже baseline - ты явно делаешь что-то не то и стоит попробовать другой путь) "
   ]
  },
  {
   "cell_type": "markdown",
   "metadata": {
    "papermill": {
     "duration": 0.028027,
     "end_time": "2020-10-26T12:46:41.334278",
     "exception": false,
     "start_time": "2020-10-26T12:46:41.306251",
     "status": "completed"
    },
    "tags": []
   },
   "source": [
    "Помним, что по условию соревнования, нам нужно самостоятельно собрать обучающий датасет. В этом ноутбуке мы не будем рассматривать сбор данных. Предположим, что мы уже все собрали и просто подключили свой датасет через \"Add Data\", чтобы приступить к самому ML."
   ]
  },
  {
   "cell_type": "code",
   "execution_count": null,
   "metadata": {},
   "outputs": [],
   "source": [
    "# %pip install catboost\n",
    "# %pip install sklearn\n",
    "# %pip install tqdm\n",
    "# %pip install phik\n",
    "# %pip install https://github.com/pandas-profiling/pandas-profiling/archive/master.zip\n",
    "# %pip install seaborn\n",
    "# %pip install pandas-profiling[notebook]"
   ]
  },
  {
   "cell_type": "code",
   "execution_count": 11,
   "metadata": {
    "_cell_guid": "b1076dfc-b9ad-4769-8c92-a6c4dae69d19",
    "_uuid": "8f2839f25d086af736a60e9eeb907d3b93b6e0e5",
    "execution": {
     "iopub.execute_input": "2020-10-26T12:46:41.400302Z",
     "iopub.status.busy": "2020-10-26T12:46:41.399317Z",
     "iopub.status.idle": "2020-10-26T12:46:42.581426Z",
     "shell.execute_reply": "2020-10-26T12:46:42.580431Z"
    },
    "papermill": {
     "duration": 1.219772,
     "end_time": "2020-10-26T12:46:42.581597",
     "exception": false,
     "start_time": "2020-10-26T12:46:41.361825",
     "status": "completed"
    },
    "tags": []
   },
   "outputs": [],
   "source": [
    "import numpy as np # linear algebra\n",
    "import pandas as pd # data processing, CSV file I/O (e.g. pd.read_csv)\n",
    "import sys\n",
    "from sklearn.model_selection import train_test_split\n",
    "from sklearn.model_selection import KFold\n",
    "from tqdm.notebook import tqdm\n",
    "from catboost import CatBoostRegressor\n",
    "from sklearn.preprocessing import LabelEncoder"
   ]
  },
  {
   "cell_type": "code",
   "execution_count": 12,
   "metadata": {
    "_kg_hide-input": true,
    "execution": {
     "iopub.execute_input": "2020-10-26T12:46:42.646795Z",
     "iopub.status.busy": "2020-10-26T12:46:42.645765Z",
     "iopub.status.idle": "2020-10-26T12:46:42.649793Z",
     "shell.execute_reply": "2020-10-26T12:46:42.650407Z"
    },
    "papermill": {
     "duration": 0.040034,
     "end_time": "2020-10-26T12:46:42.650603",
     "exception": false,
     "start_time": "2020-10-26T12:46:42.610569",
     "status": "completed"
    },
    "tags": []
   },
   "outputs": [
    {
     "name": "stdout",
     "output_type": "stream",
     "text": [
      "Python       : 3.9.7 (default, Sep 16 2021, 16:59:28) [MSC v.1916 64 bit (AMD64)]\n",
      "Numpy        : 1.20.3\n"
     ]
    }
   ],
   "source": [
    "print('Python       :', sys.version.split('\\n')[0])\n",
    "print('Numpy        :', np.__version__)"
   ]
  },
  {
   "cell_type": "code",
   "execution_count": 7,
   "metadata": {
    "_kg_hide-input": true,
    "execution": {
     "iopub.execute_input": "2020-10-26T12:46:42.716039Z",
     "iopub.status.busy": "2020-10-26T12:46:42.715184Z",
     "iopub.status.idle": "2020-10-26T12:46:47.852433Z",
     "shell.execute_reply": "2020-10-26T12:46:47.851661Z"
    },
    "papermill": {
     "duration": 5.172536,
     "end_time": "2020-10-26T12:46:47.852593",
     "exception": false,
     "start_time": "2020-10-26T12:46:42.680057",
     "status": "completed"
    },
    "tags": []
   },
   "outputs": [
    {
     "name": "stdout",
     "output_type": "stream",
     "text": [
      "Note: you may need to restart the kernel to use updated packages.\n"
     ]
    }
   ],
   "source": [
    "# зафиксируем версию пакетов, чтобы эксперименты были воспроизводимы:\n",
    "%pip freeze > requirements.txt"
   ]
  },
  {
   "cell_type": "code",
   "execution_count": 13,
   "metadata": {
    "execution": {
     "iopub.execute_input": "2020-10-26T12:46:47.919419Z",
     "iopub.status.busy": "2020-10-26T12:46:47.918168Z",
     "iopub.status.idle": "2020-10-26T12:46:47.922267Z",
     "shell.execute_reply": "2020-10-26T12:46:47.921365Z"
    },
    "papermill": {
     "duration": 0.039842,
     "end_time": "2020-10-26T12:46:47.922434",
     "exception": false,
     "start_time": "2020-10-26T12:46:47.882592",
     "status": "completed"
    },
    "tags": []
   },
   "outputs": [],
   "source": [
    "# всегда фиксируйте RANDOM_SEED, чтобы ваши эксперименты были воспроизводимы!\n",
    "RANDOM_SEED = 42"
   ]
  },
  {
   "cell_type": "code",
   "execution_count": 14,
   "metadata": {
    "_kg_hide-input": true
   },
   "outputs": [],
   "source": [
    "def mape(y_true, y_pred):\n",
    "    return np.mean(np.abs((y_pred-y_true)/y_true))"
   ]
  },
  {
   "cell_type": "markdown",
   "metadata": {
    "papermill": {
     "duration": 0.028837,
     "end_time": "2020-10-26T12:46:47.981435",
     "exception": false,
     "start_time": "2020-10-26T12:46:47.952598",
     "status": "completed"
    },
    "tags": []
   },
   "source": [
    "# Setup"
   ]
  },
  {
   "cell_type": "code",
   "execution_count": 36,
   "metadata": {
    "execution": {
     "iopub.execute_input": "2020-10-26T12:46:48.05046Z",
     "iopub.status.busy": "2020-10-26T12:46:48.049412Z",
     "iopub.status.idle": "2020-10-26T12:46:48.052578Z",
     "shell.execute_reply": "2020-10-26T12:46:48.051917Z"
    },
    "papermill": {
     "duration": 0.039969,
     "end_time": "2020-10-26T12:46:48.052728",
     "exception": false,
     "start_time": "2020-10-26T12:46:48.012759",
     "status": "completed"
    },
    "tags": []
   },
   "outputs": [],
   "source": [
    "VERSION    = 1\n",
    "DIR_TRAIN  = './input/parsing-all-moscow-auto-ru-09-09-2020/' # подключил к ноутбуку внешний датасет\n",
    "DIR_TEST   = './input/sf-dst-car-price-prediction/'\n",
    "VAL_SIZE   = 0.20   # 20%"
   ]
  },
  {
   "cell_type": "markdown",
   "metadata": {
    "papermill": {
     "duration": 0.030254,
     "end_time": "2020-10-26T12:46:48.112586",
     "exception": false,
     "start_time": "2020-10-26T12:46:48.082332",
     "status": "completed"
    },
    "tags": []
   },
   "source": [
    "# Data"
   ]
  },
  {
   "cell_type": "code",
   "execution_count": 39,
   "metadata": {},
   "outputs": [],
   "source": [
    "# %pip uninstall pandas-profiling\n",
    "# %pip install pandas-profiling[notebook,html]\n",
    "# %pip install ruamel-yaml\n",
    "train_my = pd.read_csv('dftrain.csv') # мой датасет для обучения модели\n"
   ]
  },
  {
   "cell_type": "code",
   "execution_count": 15,
   "metadata": {
    "_cell_guid": "79c7e3d0-c299-4dcb-8224-4455121ee9b0",
    "_uuid": "d629ff2d2480ee46fbb7e2d37f6b5fab8052498a",
    "execution": {
     "iopub.execute_input": "2020-10-26T12:46:49.007668Z",
     "iopub.status.busy": "2020-10-26T12:46:49.006762Z",
     "iopub.status.idle": "2020-10-26T12:47:02.121152Z",
     "shell.execute_reply": "2020-10-26T12:47:02.120434Z"
    },
    "papermill": {
     "duration": 13.16556,
     "end_time": "2020-10-26T12:47:02.12133",
     "exception": false,
     "start_time": "2020-10-26T12:46:48.95577",
     "status": "completed"
    },
    "tags": []
   },
   "outputs": [],
   "source": [
    "train = pd.read_csv(DIR_TRAIN+'all_auto_ru_09_09_2020.csv') # датасет для обучения модели\n",
    "test = pd.read_csv(DIR_TEST+'test.csv')\n",
    "sample_submission = pd.read_csv(DIR_TEST+'sample_submission.csv')"
   ]
  },
  {
   "cell_type": "code",
   "execution_count": 8,
   "metadata": {},
   "outputs": [
    {
     "name": "stderr",
     "output_type": "stream",
     "text": [
      "Summarize dataset: 100%|██████████| 72/72 [03:25<00:00,  2.85s/it, Completed]                                 \n",
      "Generate report structure: 100%|██████████| 1/1 [00:42<00:00, 42.66s/it]\n",
      "Render HTML: 100%|██████████| 1/1 [00:09<00:00,  9.82s/it]\n",
      "Export report to file: 100%|██████████| 1/1 [00:00<00:00, 17.70it/s]\n"
     ]
    }
   ],
   "source": [
    "#использование профилировщика пандас для изучения тестового датасета\n",
    "from pandas_profiling import ProfileReport\n",
    "profile = ProfileReport(test, title=\"Pandas Profiling Report\")\n",
    "profile.to_file(\"your_report.html\")"
   ]
  },
  {
   "cell_type": "code",
   "execution_count": 12,
   "metadata": {
    "execution": {
     "iopub.execute_input": "2020-10-26T12:47:02.22557Z",
     "iopub.status.busy": "2020-10-26T12:47:02.21916Z",
     "iopub.status.idle": "2020-10-26T12:47:02.245921Z",
     "shell.execute_reply": "2020-10-26T12:47:02.246559Z"
    },
    "papermill": {
     "duration": 0.09378,
     "end_time": "2020-10-26T12:47:02.246755",
     "exception": false,
     "start_time": "2020-10-26T12:47:02.152975",
     "status": "completed"
    },
    "tags": []
   },
   "outputs": [
    {
     "data": {
      "text/html": [
       "<div>\n",
       "<style scoped>\n",
       "    .dataframe tbody tr th:only-of-type {\n",
       "        vertical-align: middle;\n",
       "    }\n",
       "\n",
       "    .dataframe tbody tr th {\n",
       "        vertical-align: top;\n",
       "    }\n",
       "\n",
       "    .dataframe thead th {\n",
       "        text-align: right;\n",
       "    }\n",
       "</style>\n",
       "<table border=\"1\" class=\"dataframe\">\n",
       "  <thead>\n",
       "    <tr style=\"text-align: right;\">\n",
       "      <th></th>\n",
       "      <th>bodyType</th>\n",
       "      <th>brand</th>\n",
       "      <th>color</th>\n",
       "      <th>fuelType</th>\n",
       "      <th>modelDate</th>\n",
       "      <th>name</th>\n",
       "      <th>numberOfDoors</th>\n",
       "      <th>productionDate</th>\n",
       "      <th>vehicleConfiguration</th>\n",
       "      <th>vehicleTransmission</th>\n",
       "      <th>...</th>\n",
       "      <th>Руль</th>\n",
       "      <th>Состояние</th>\n",
       "      <th>Владельцы</th>\n",
       "      <th>ПТС</th>\n",
       "      <th>Таможня</th>\n",
       "      <th>Владение</th>\n",
       "      <th>price</th>\n",
       "      <th>start_date</th>\n",
       "      <th>hidden</th>\n",
       "      <th>model</th>\n",
       "    </tr>\n",
       "  </thead>\n",
       "  <tbody>\n",
       "    <tr>\n",
       "      <th>82303</th>\n",
       "      <td>Седан</td>\n",
       "      <td>MERCEDES</td>\n",
       "      <td>FAFBFB</td>\n",
       "      <td>дизель</td>\n",
       "      <td>2016.0</td>\n",
       "      <td>220 d 2.0d AT (194 л.с.) 4WD</td>\n",
       "      <td>4.0</td>\n",
       "      <td>2020</td>\n",
       "      <td>SEDAN AUTOMATIC 220</td>\n",
       "      <td>AUTOMATIC</td>\n",
       "      <td>...</td>\n",
       "      <td>LEFT</td>\n",
       "      <td>NaN</td>\n",
       "      <td>NaN</td>\n",
       "      <td>ORIGINAL</td>\n",
       "      <td>True</td>\n",
       "      <td>NaN</td>\n",
       "      <td>3902500.0</td>\n",
       "      <td>2020-09-04T11:21:47Z</td>\n",
       "      <td>NaN</td>\n",
       "      <td>E_KLASSE</td>\n",
       "    </tr>\n",
       "    <tr>\n",
       "      <th>86421</th>\n",
       "      <td>Внедорожник 5 дв.</td>\n",
       "      <td>MERCEDES</td>\n",
       "      <td>040001</td>\n",
       "      <td>дизель</td>\n",
       "      <td>2001.0</td>\n",
       "      <td>270 2.7d AT (163 л.с.) 4WD</td>\n",
       "      <td>5.0</td>\n",
       "      <td>2003</td>\n",
       "      <td>ALLROAD_5_DOORS AUTOMATIC 270</td>\n",
       "      <td>AUTOMATIC</td>\n",
       "      <td>...</td>\n",
       "      <td>LEFT</td>\n",
       "      <td>NaN</td>\n",
       "      <td>3.0</td>\n",
       "      <td>ORIGINAL</td>\n",
       "      <td>True</td>\n",
       "      <td>{'year': 2014, 'month': 3}</td>\n",
       "      <td>550000.0</td>\n",
       "      <td>2018-06-14T19:16:59Z</td>\n",
       "      <td>NaN</td>\n",
       "      <td>M_KLASSE</td>\n",
       "    </tr>\n",
       "    <tr>\n",
       "      <th>48424</th>\n",
       "      <td>Седан</td>\n",
       "      <td>NISSAN</td>\n",
       "      <td>CACECB</td>\n",
       "      <td>бензин</td>\n",
       "      <td>2001.0</td>\n",
       "      <td>2.0 CVT (140 л.с.)</td>\n",
       "      <td>4.0</td>\n",
       "      <td>2003</td>\n",
       "      <td>SEDAN VARIATOR 2.0</td>\n",
       "      <td>VARIATOR</td>\n",
       "      <td>...</td>\n",
       "      <td>LEFT</td>\n",
       "      <td>NaN</td>\n",
       "      <td>3.0</td>\n",
       "      <td>ORIGINAL</td>\n",
       "      <td>True</td>\n",
       "      <td>NaN</td>\n",
       "      <td>285000.0</td>\n",
       "      <td>2020-06-07T10:23:52Z</td>\n",
       "      <td>NaN</td>\n",
       "      <td>PRIMERA</td>\n",
       "    </tr>\n",
       "  </tbody>\n",
       "</table>\n",
       "<p>3 rows × 26 columns</p>\n",
       "</div>"
      ],
      "text/plain": [
       "                bodyType     brand   color fuelType  modelDate  \\\n",
       "82303              Седан  MERCEDES  FAFBFB   дизель     2016.0   \n",
       "86421  Внедорожник 5 дв.  MERCEDES  040001   дизель     2001.0   \n",
       "48424              Седан    NISSAN  CACECB   бензин     2001.0   \n",
       "\n",
       "                               name  numberOfDoors  productionDate  \\\n",
       "82303  220 d 2.0d AT (194 л.с.) 4WD            4.0            2020   \n",
       "86421    270 2.7d AT (163 л.с.) 4WD            5.0            2003   \n",
       "48424            2.0 CVT (140 л.с.)            4.0            2003   \n",
       "\n",
       "                vehicleConfiguration vehicleTransmission  ...  Руль  \\\n",
       "82303            SEDAN AUTOMATIC 220           AUTOMATIC  ...  LEFT   \n",
       "86421  ALLROAD_5_DOORS AUTOMATIC 270           AUTOMATIC  ...  LEFT   \n",
       "48424             SEDAN VARIATOR 2.0            VARIATOR  ...  LEFT   \n",
       "\n",
       "       Состояние Владельцы       ПТС Таможня                    Владение  \\\n",
       "82303        NaN       NaN  ORIGINAL    True                         NaN   \n",
       "86421        NaN       3.0  ORIGINAL    True  {'year': 2014, 'month': 3}   \n",
       "48424        NaN       3.0  ORIGINAL    True                         NaN   \n",
       "\n",
       "           price            start_date  hidden     model  \n",
       "82303  3902500.0  2020-09-04T11:21:47Z     NaN  E_KLASSE  \n",
       "86421   550000.0  2018-06-14T19:16:59Z     NaN  M_KLASSE  \n",
       "48424   285000.0  2020-06-07T10:23:52Z     NaN   PRIMERA  \n",
       "\n",
       "[3 rows x 26 columns]"
      ]
     },
     "execution_count": 12,
     "metadata": {},
     "output_type": "execute_result"
    }
   ],
   "source": [
    "# train[['bodyType','brand','color','fuelType','modelDate','mileage']].head(3)\n",
    "train.sample(3)"
   ]
  },
  {
   "cell_type": "code",
   "execution_count": 10,
   "metadata": {
    "execution": {
     "iopub.execute_input": "2020-10-26T12:47:02.22557Z",
     "iopub.status.busy": "2020-10-26T12:47:02.21916Z",
     "iopub.status.idle": "2020-10-26T12:47:02.245921Z",
     "shell.execute_reply": "2020-10-26T12:47:02.246559Z"
    },
    "papermill": {
     "duration": 0.09378,
     "end_time": "2020-10-26T12:47:02.246755",
     "exception": false,
     "start_time": "2020-10-26T12:47:02.152975",
     "status": "completed"
    },
    "tags": []
   },
   "outputs": [
    {
     "data": {
      "text/html": [
       "<div>\n",
       "<style scoped>\n",
       "    .dataframe tbody tr th:only-of-type {\n",
       "        vertical-align: middle;\n",
       "    }\n",
       "\n",
       "    .dataframe tbody tr th {\n",
       "        vertical-align: top;\n",
       "    }\n",
       "\n",
       "    .dataframe thead th {\n",
       "        text-align: right;\n",
       "    }\n",
       "</style>\n",
       "<table border=\"1\" class=\"dataframe\">\n",
       "  <thead>\n",
       "    <tr style=\"text-align: right;\">\n",
       "      <th></th>\n",
       "      <th>bodyType</th>\n",
       "      <th>brand</th>\n",
       "      <th>car_url</th>\n",
       "      <th>color</th>\n",
       "      <th>complectation_dict</th>\n",
       "      <th>description</th>\n",
       "      <th>engineDisplacement</th>\n",
       "      <th>enginePower</th>\n",
       "      <th>equipment_dict</th>\n",
       "      <th>fuelType</th>\n",
       "      <th>image</th>\n",
       "      <th>mileage</th>\n",
       "    </tr>\n",
       "  </thead>\n",
       "  <tbody>\n",
       "    <tr>\n",
       "      <th>0</th>\n",
       "      <td>лифтбек</td>\n",
       "      <td>SKODA</td>\n",
       "      <td>https://auto.ru/cars/used/sale/skoda/octavia/1...</td>\n",
       "      <td>синий</td>\n",
       "      <td>NaN</td>\n",
       "      <td>Все автомобили, представленные в продаже, прох...</td>\n",
       "      <td>1.2 LTR</td>\n",
       "      <td>105 N12</td>\n",
       "      <td>{\"engine-proof\":true,\"tinted-glass\":true,\"airb...</td>\n",
       "      <td>бензин</td>\n",
       "      <td>https://autoru.naydex.net/o9DBXQ270/5ac010hAY0...</td>\n",
       "      <td>74000</td>\n",
       "    </tr>\n",
       "    <tr>\n",
       "      <th>1</th>\n",
       "      <td>лифтбек</td>\n",
       "      <td>SKODA</td>\n",
       "      <td>https://auto.ru/cars/used/sale/skoda/octavia/1...</td>\n",
       "      <td>чёрный</td>\n",
       "      <td>NaN</td>\n",
       "      <td>ЛОТ: 01217195\\nАвтопрага Север\\nДанный автомоб...</td>\n",
       "      <td>1.6 LTR</td>\n",
       "      <td>110 N12</td>\n",
       "      <td>{\"cruise-control\":true,\"asr\":true,\"esp\":true,\"...</td>\n",
       "      <td>бензин</td>\n",
       "      <td>https://autoru.naydex.net/o9DBXQ270/5ac010hAY0...</td>\n",
       "      <td>60563</td>\n",
       "    </tr>\n",
       "    <tr>\n",
       "      <th>2</th>\n",
       "      <td>лифтбек</td>\n",
       "      <td>SKODA</td>\n",
       "      <td>https://auto.ru/cars/used/sale/skoda/superb/11...</td>\n",
       "      <td>серый</td>\n",
       "      <td>{\"id\":\"20026336\",\"name\":\"Ambition\",\"available_...</td>\n",
       "      <td>Все автомобили, представленные в продаже, прох...</td>\n",
       "      <td>1.8 LTR</td>\n",
       "      <td>152 N12</td>\n",
       "      <td>{\"cruise-control\":true,\"tinted-glass\":true,\"es...</td>\n",
       "      <td>бензин</td>\n",
       "      <td>https://avatars.mds.yandex.net/get-autoru-vos/...</td>\n",
       "      <td>88000</td>\n",
       "    </tr>\n",
       "    <tr>\n",
       "      <th>3</th>\n",
       "      <td>лифтбек</td>\n",
       "      <td>SKODA</td>\n",
       "      <td>https://auto.ru/cars/used/sale/skoda/octavia/1...</td>\n",
       "      <td>коричневый</td>\n",
       "      <td>{\"id\":\"20803582\",\"name\":\"Ambition\",\"available_...</td>\n",
       "      <td>КОМПЛЕКТ ЗИМНЕЙ (ЛЕТНЕЙ) РЕЗИНЫ ПО СЕЗОНУ В ПО...</td>\n",
       "      <td>1.6 LTR</td>\n",
       "      <td>110 N12</td>\n",
       "      <td>{\"cruise-control\":true,\"roller-blind-for-rear-...</td>\n",
       "      <td>бензин</td>\n",
       "      <td>https://autoru.naydex.net/o9DBXQ270/5ac010hAY0...</td>\n",
       "      <td>95000</td>\n",
       "    </tr>\n",
       "    <tr>\n",
       "      <th>4</th>\n",
       "      <td>лифтбек</td>\n",
       "      <td>SKODA</td>\n",
       "      <td>https://auto.ru/cars/used/sale/skoda/octavia/1...</td>\n",
       "      <td>белый</td>\n",
       "      <td>NaN</td>\n",
       "      <td>ЛОТ: 01220889\\nАвтопрага Север\\n\\nВы можете по...</td>\n",
       "      <td>1.8 LTR</td>\n",
       "      <td>152 N12</td>\n",
       "      <td>{\"cruise-control\":true,\"asr\":true,\"esp\":true,\"...</td>\n",
       "      <td>бензин</td>\n",
       "      <td>https://autoru.naydex.net/o9DBXQ270/5ac010hAY0...</td>\n",
       "      <td>58536</td>\n",
       "    </tr>\n",
       "    <tr>\n",
       "      <th>...</th>\n",
       "      <td>...</td>\n",
       "      <td>...</td>\n",
       "      <td>...</td>\n",
       "      <td>...</td>\n",
       "      <td>...</td>\n",
       "      <td>...</td>\n",
       "      <td>...</td>\n",
       "      <td>...</td>\n",
       "      <td>...</td>\n",
       "      <td>...</td>\n",
       "      <td>...</td>\n",
       "      <td>...</td>\n",
       "    </tr>\n",
       "    <tr>\n",
       "      <th>34681</th>\n",
       "      <td>седан</td>\n",
       "      <td>BMW</td>\n",
       "      <td>https://auto.ru/cars/used/sale/bmw/3er/1101369...</td>\n",
       "      <td>коричневый</td>\n",
       "      <td>NaN</td>\n",
       "      <td>Продается BMW 316i в отличном состоянии. Прода...</td>\n",
       "      <td>1.6 LTR</td>\n",
       "      <td>136 N12</td>\n",
       "      <td>{\"cruise-control\":true,\"asr\":true,\"tinted-glas...</td>\n",
       "      <td>бензин</td>\n",
       "      <td>https://autoru.naydex.net/nwI1K7152/b604fdsYg7...</td>\n",
       "      <td>115000</td>\n",
       "    </tr>\n",
       "    <tr>\n",
       "      <th>34682</th>\n",
       "      <td>седан</td>\n",
       "      <td>BMW</td>\n",
       "      <td>https://auto.ru/cars/used/sale/bmw/5er/1101369...</td>\n",
       "      <td>чёрный</td>\n",
       "      <td>NaN</td>\n",
       "      <td>Продаётся отличный автомобиль.</td>\n",
       "      <td>2.0 LTR</td>\n",
       "      <td>190 N12</td>\n",
       "      <td>NaN</td>\n",
       "      <td>дизель</td>\n",
       "      <td>https://autoru.naydex.net/nwI1K7152/b604fdsYg7...</td>\n",
       "      <td>98000</td>\n",
       "    </tr>\n",
       "    <tr>\n",
       "      <th>34683</th>\n",
       "      <td>седан</td>\n",
       "      <td>BMW</td>\n",
       "      <td>https://auto.ru/cars/used/sale/bmw/5er/1101364...</td>\n",
       "      <td>серый</td>\n",
       "      <td>NaN</td>\n",
       "      <td>Хорошее состояние</td>\n",
       "      <td>2.5 LTR</td>\n",
       "      <td>170 N12</td>\n",
       "      <td>NaN</td>\n",
       "      <td>бензин</td>\n",
       "      <td>https://avatars.mds.yandex.net/get-autoru-vos/...</td>\n",
       "      <td>360000</td>\n",
       "    </tr>\n",
       "    <tr>\n",
       "      <th>34684</th>\n",
       "      <td>внедорожник 5 дв.</td>\n",
       "      <td>BMW</td>\n",
       "      <td>https://auto.ru/cars/used/sale/bmw/x1/11013625...</td>\n",
       "      <td>коричневый</td>\n",
       "      <td>{\"id\":\"6336008\",\"name\":\"xDrive20d Локальная сб...</td>\n",
       "      <td>Автомобиль в идеальном состоянии . Куплен новы...</td>\n",
       "      <td>2.0 LTR</td>\n",
       "      <td>184 N12</td>\n",
       "      <td>{\"engine-proof\":true,\"esp\":true,\"start-stop-fu...</td>\n",
       "      <td>дизель</td>\n",
       "      <td>https://autoru.naydex.net/nwI1K7152/b604fdsYg7...</td>\n",
       "      <td>90500</td>\n",
       "    </tr>\n",
       "    <tr>\n",
       "      <th>34685</th>\n",
       "      <td>внедорожник 5 дв.</td>\n",
       "      <td>BMW</td>\n",
       "      <td>https://auto.ru/cars/used/sale/bmw/x5/11012560...</td>\n",
       "      <td>чёрный</td>\n",
       "      <td>NaN</td>\n",
       "      <td>Пробег реальный, состояние отличное! Авторска...</td>\n",
       "      <td>3.0 LTR</td>\n",
       "      <td>235 N12</td>\n",
       "      <td>{\"alloy-wheel-disks\":true,\"navigation\":true,\"p...</td>\n",
       "      <td>дизель</td>\n",
       "      <td>https://avatars.mds.yandex.net/get-autoru-vos/...</td>\n",
       "      <td>240000</td>\n",
       "    </tr>\n",
       "  </tbody>\n",
       "</table>\n",
       "<p>34686 rows × 12 columns</p>\n",
       "</div>"
      ],
      "text/plain": [
       "                bodyType  brand  \\\n",
       "0                лифтбек  SKODA   \n",
       "1                лифтбек  SKODA   \n",
       "2                лифтбек  SKODA   \n",
       "3                лифтбек  SKODA   \n",
       "4                лифтбек  SKODA   \n",
       "...                  ...    ...   \n",
       "34681              седан    BMW   \n",
       "34682              седан    BMW   \n",
       "34683              седан    BMW   \n",
       "34684  внедорожник 5 дв.    BMW   \n",
       "34685  внедорожник 5 дв.    BMW   \n",
       "\n",
       "                                                 car_url       color  \\\n",
       "0      https://auto.ru/cars/used/sale/skoda/octavia/1...       синий   \n",
       "1      https://auto.ru/cars/used/sale/skoda/octavia/1...      чёрный   \n",
       "2      https://auto.ru/cars/used/sale/skoda/superb/11...       серый   \n",
       "3      https://auto.ru/cars/used/sale/skoda/octavia/1...  коричневый   \n",
       "4      https://auto.ru/cars/used/sale/skoda/octavia/1...       белый   \n",
       "...                                                  ...         ...   \n",
       "34681  https://auto.ru/cars/used/sale/bmw/3er/1101369...  коричневый   \n",
       "34682  https://auto.ru/cars/used/sale/bmw/5er/1101369...      чёрный   \n",
       "34683  https://auto.ru/cars/used/sale/bmw/5er/1101364...       серый   \n",
       "34684  https://auto.ru/cars/used/sale/bmw/x1/11013625...  коричневый   \n",
       "34685  https://auto.ru/cars/used/sale/bmw/x5/11012560...      чёрный   \n",
       "\n",
       "                                      complectation_dict  \\\n",
       "0                                                    NaN   \n",
       "1                                                    NaN   \n",
       "2      {\"id\":\"20026336\",\"name\":\"Ambition\",\"available_...   \n",
       "3      {\"id\":\"20803582\",\"name\":\"Ambition\",\"available_...   \n",
       "4                                                    NaN   \n",
       "...                                                  ...   \n",
       "34681                                                NaN   \n",
       "34682                                                NaN   \n",
       "34683                                                NaN   \n",
       "34684  {\"id\":\"6336008\",\"name\":\"xDrive20d Локальная сб...   \n",
       "34685                                                NaN   \n",
       "\n",
       "                                             description engineDisplacement  \\\n",
       "0      Все автомобили, представленные в продаже, прох...            1.2 LTR   \n",
       "1      ЛОТ: 01217195\\nАвтопрага Север\\nДанный автомоб...            1.6 LTR   \n",
       "2      Все автомобили, представленные в продаже, прох...            1.8 LTR   \n",
       "3      КОМПЛЕКТ ЗИМНЕЙ (ЛЕТНЕЙ) РЕЗИНЫ ПО СЕЗОНУ В ПО...            1.6 LTR   \n",
       "4      ЛОТ: 01220889\\nАвтопрага Север\\n\\nВы можете по...            1.8 LTR   \n",
       "...                                                  ...                ...   \n",
       "34681  Продается BMW 316i в отличном состоянии. Прода...            1.6 LTR   \n",
       "34682                     Продаётся отличный автомобиль.            2.0 LTR   \n",
       "34683                                  Хорошее состояние            2.5 LTR   \n",
       "34684  Автомобиль в идеальном состоянии . Куплен новы...            2.0 LTR   \n",
       "34685   Пробег реальный, состояние отличное! Авторска...            3.0 LTR   \n",
       "\n",
       "      enginePower                                     equipment_dict fuelType  \\\n",
       "0         105 N12  {\"engine-proof\":true,\"tinted-glass\":true,\"airb...   бензин   \n",
       "1         110 N12  {\"cruise-control\":true,\"asr\":true,\"esp\":true,\"...   бензин   \n",
       "2         152 N12  {\"cruise-control\":true,\"tinted-glass\":true,\"es...   бензин   \n",
       "3         110 N12  {\"cruise-control\":true,\"roller-blind-for-rear-...   бензин   \n",
       "4         152 N12  {\"cruise-control\":true,\"asr\":true,\"esp\":true,\"...   бензин   \n",
       "...           ...                                                ...      ...   \n",
       "34681     136 N12  {\"cruise-control\":true,\"asr\":true,\"tinted-glas...   бензин   \n",
       "34682     190 N12                                                NaN   дизель   \n",
       "34683     170 N12                                                NaN   бензин   \n",
       "34684     184 N12  {\"engine-proof\":true,\"esp\":true,\"start-stop-fu...   дизель   \n",
       "34685     235 N12  {\"alloy-wheel-disks\":true,\"navigation\":true,\"p...   дизель   \n",
       "\n",
       "                                                   image  mileage  \n",
       "0      https://autoru.naydex.net/o9DBXQ270/5ac010hAY0...    74000  \n",
       "1      https://autoru.naydex.net/o9DBXQ270/5ac010hAY0...    60563  \n",
       "2      https://avatars.mds.yandex.net/get-autoru-vos/...    88000  \n",
       "3      https://autoru.naydex.net/o9DBXQ270/5ac010hAY0...    95000  \n",
       "4      https://autoru.naydex.net/o9DBXQ270/5ac010hAY0...    58536  \n",
       "...                                                  ...      ...  \n",
       "34681  https://autoru.naydex.net/nwI1K7152/b604fdsYg7...   115000  \n",
       "34682  https://autoru.naydex.net/nwI1K7152/b604fdsYg7...    98000  \n",
       "34683  https://avatars.mds.yandex.net/get-autoru-vos/...   360000  \n",
       "34684  https://autoru.naydex.net/nwI1K7152/b604fdsYg7...    90500  \n",
       "34685  https://avatars.mds.yandex.net/get-autoru-vos/...   240000  \n",
       "\n",
       "[34686 rows x 12 columns]"
      ]
     },
     "execution_count": 10,
     "metadata": {},
     "output_type": "execute_result"
    }
   ],
   "source": [
    "test[['bodyType', 'brand', 'car_url', 'color', 'complectation_dict',\n",
    "       'description', 'engineDisplacement', 'enginePower', 'equipment_dict',\n",
    "       'fuelType', 'image', 'mileage']]"
   ]
  },
  {
   "cell_type": "code",
   "execution_count": 16,
   "metadata": {},
   "outputs": [
    {
     "data": {
      "text/html": [
       "<div>\n",
       "<style scoped>\n",
       "    .dataframe tbody tr th:only-of-type {\n",
       "        vertical-align: middle;\n",
       "    }\n",
       "\n",
       "    .dataframe tbody tr th {\n",
       "        vertical-align: top;\n",
       "    }\n",
       "\n",
       "    .dataframe thead th {\n",
       "        text-align: right;\n",
       "    }\n",
       "</style>\n",
       "<table border=\"1\" class=\"dataframe\">\n",
       "  <thead>\n",
       "    <tr style=\"text-align: right;\">\n",
       "      <th></th>\n",
       "      <th>bodyType</th>\n",
       "      <th>brand</th>\n",
       "      <th>productionDate</th>\n",
       "      <th>engineDisplacement</th>\n",
       "      <th>mileage</th>\n",
       "    </tr>\n",
       "  </thead>\n",
       "  <tbody>\n",
       "    <tr>\n",
       "      <th>24150</th>\n",
       "      <td>Седан</td>\n",
       "      <td>HONDA</td>\n",
       "      <td>2008</td>\n",
       "      <td>2.4</td>\n",
       "      <td>260000</td>\n",
       "    </tr>\n",
       "    <tr>\n",
       "      <th>78556</th>\n",
       "      <td>Внедорожник 5 дв.</td>\n",
       "      <td>VOLVO</td>\n",
       "      <td>2008</td>\n",
       "      <td>2.4d</td>\n",
       "      <td>164042</td>\n",
       "    </tr>\n",
       "    <tr>\n",
       "      <th>49533</th>\n",
       "      <td>Внедорожник 5 дв.</td>\n",
       "      <td>NISSAN</td>\n",
       "      <td>2013</td>\n",
       "      <td>2.0</td>\n",
       "      <td>67000</td>\n",
       "    </tr>\n",
       "  </tbody>\n",
       "</table>\n",
       "</div>"
      ],
      "text/plain": [
       "                bodyType   brand  productionDate engineDisplacement  mileage\n",
       "24150              Седан   HONDA            2008                2.4   260000\n",
       "78556  Внедорожник 5 дв.   VOLVO            2008               2.4d   164042\n",
       "49533  Внедорожник 5 дв.  NISSAN            2013                2.0    67000"
      ]
     },
     "execution_count": 16,
     "metadata": {},
     "output_type": "execute_result"
    }
   ],
   "source": [
    "# train[['bodyType','brand','color','fuelType','modelDate','mileage']].head(3)\n",
    "train[['bodyType', 'brand', 'productionDate', 'engineDisplacement', 'mileage']].sample(3)"
   ]
  },
  {
   "cell_type": "code",
   "execution_count": 20,
   "metadata": {
    "execution": {
     "iopub.execute_input": "2020-10-26T12:47:02.317036Z",
     "iopub.status.busy": "2020-10-26T12:47:02.316251Z",
     "iopub.status.idle": "2020-10-26T12:47:02.50135Z",
     "shell.execute_reply": "2020-10-26T12:47:02.501985Z"
    },
    "papermill": {
     "duration": 0.22352,
     "end_time": "2020-10-26T12:47:02.502166",
     "exception": false,
     "start_time": "2020-10-26T12:47:02.278646",
     "status": "completed"
    },
    "tags": []
   },
   "outputs": [
    {
     "name": "stdout",
     "output_type": "stream",
     "text": [
      "['bodyType', 'brand', 'color', 'description', 'engineDisplacement', 'enginePower', 'fuelType', 'mileage', 'modelDate', 'name', 'numberOfDoors', 'productionDate', 'vehicleConfiguration', 'vehicleTransmission', 'Владельцы', 'Владение', 'ПТС', 'Привод', 'Руль', 'Состояние', 'Таможня']\n",
      "['car_url', 'complectation_dict', 'equipment_dict', 'image', 'model_info', 'model_name', 'parsing_unixtime', 'priceCurrency', 'sell_id', 'super_gen', 'vendor']\n",
      "<class 'pandas.core.frame.DataFrame'>\n",
      "RangeIndex: 89378 entries, 0 to 89377\n",
      "Data columns (total 26 columns):\n",
      " #   Column                Non-Null Count  Dtype  \n",
      "---  ------                --------------  -----  \n",
      " 0   bodyType              89377 non-null  object \n",
      " 1   brand                 89378 non-null  object \n",
      " 2   color                 89378 non-null  object \n",
      " 3   fuelType              89378 non-null  object \n",
      " 4   modelDate             89377 non-null  float64\n",
      " 5   name                  89377 non-null  object \n",
      " 6   numberOfDoors         89377 non-null  float64\n",
      " 7   productionDate        89378 non-null  int64  \n",
      " 8   vehicleConfiguration  89377 non-null  object \n",
      " 9   vehicleTransmission   89377 non-null  object \n",
      " 10  engineDisplacement    89377 non-null  object \n",
      " 11  enginePower           89377 non-null  float64\n",
      " 12  description           86124 non-null  object \n",
      " 13  mileage               89378 non-null  int64  \n",
      " 14  Комплектация          89378 non-null  object \n",
      " 15  Привод                89377 non-null  object \n",
      " 16  Руль                  89378 non-null  object \n",
      " 17  Состояние             0 non-null      float64\n",
      " 18  Владельцы             75790 non-null  float64\n",
      " 19  ПТС                   89017 non-null  object \n",
      " 20  Таможня               89378 non-null  bool   \n",
      " 21  Владение              29201 non-null  object \n",
      " 22  price                 88968 non-null  float64\n",
      " 23  start_date            89378 non-null  object \n",
      " 24  hidden                0 non-null      float64\n",
      " 25  model                 89378 non-null  object \n",
      "dtypes: bool(1), float64(7), int64(2), object(16)\n",
      "memory usage: 17.1+ MB\n"
     ]
    }
   ],
   "source": [
    "inters=set(train.columns).intersection(test.columns)\n",
    "inters=list(inters)\n",
    "inters.sort()\n",
    "print(inters)\n",
    "dif=list(set(test.columns).difference(inters))\n",
    "dif.sort()\n",
    "print(dif)\n",
    "train.info()"
   ]
  },
  {
   "cell_type": "code",
   "execution_count": 7,
   "metadata": {},
   "outputs": [
    {
     "data": {
      "text/plain": [
       "BMW           4473\n",
       "VOLKSWAGEN    4404\n",
       "NISSAN        4393\n",
       "MERCEDES      4180\n",
       "TOYOTA        3913\n",
       "AUDI          3421\n",
       "MITSUBISHI    2843\n",
       "SKODA         2741\n",
       "VOLVO         1463\n",
       "HONDA         1150\n",
       "INFINITI       871\n",
       "LEXUS          834\n",
       "Name: brand, dtype: int64"
      ]
     },
     "execution_count": 7,
     "metadata": {},
     "output_type": "execute_result"
    }
   ],
   "source": [
    "test['brand'].value_counts()"
   ]
  },
  {
   "cell_type": "code",
   "execution_count": 48,
   "metadata": {},
   "outputs": [
    {
     "data": {
      "text/plain": [
       "MERCEDES      8012\n",
       "BMW           7393\n",
       "VOLKSWAGEN    7139\n",
       "NISSAN        5772\n",
       "HYUNDAI       5734\n",
       "KIA           5630\n",
       "TOYOTA        4824\n",
       "FORD          4797\n",
       "AUDI          4084\n",
       "MITSUBISHI    3933\n",
       "CHEVROLET     3633\n",
       "OPEL          3114\n",
       "SKODA         2806\n",
       "RENAULT       2713\n",
       "MAZDA         2311\n",
       "VOLVO         2073\n",
       "PEUGEOT       1641\n",
       "LAND_ROVER    1623\n",
       "HONDA         1179\n",
       "CITROEN       1146\n",
       "LEXUS         1054\n",
       "DAEWOO        1041\n",
       "INFINITI      1040\n",
       "SUBARU         932\n",
       "SUZUKI         872\n",
       "SSANG_YONG     717\n",
       "PORSCHE        713\n",
       "CHERY          566\n",
       "JEEP           483\n",
       "GREAT_WALL     420\n",
       "DODGE          418\n",
       "CHRYSLER       323\n",
       "CADILLAC       322\n",
       "JAGUAR         313\n",
       "MINI           312\n",
       "GEELY          295\n",
       "Name: brand, dtype: int64"
      ]
     },
     "execution_count": 48,
     "metadata": {},
     "output_type": "execute_result"
    }
   ],
   "source": [
    "train['brand'].value_counts()"
   ]
  },
  {
   "cell_type": "code",
   "execution_count": 46,
   "metadata": {},
   "outputs": [
    {
     "data": {
      "text/plain": [
       "2010    2503\n",
       "2013    2275\n",
       "2008    2243\n",
       "2011    2173\n",
       "2006    2169\n",
       "2009    2098\n",
       "2012    2047\n",
       "2014    1918\n",
       "2005    1805\n",
       "2007    1733\n",
       "2015    1638\n",
       "2002    1218\n",
       "2000    1207\n",
       "2017    1134\n",
       "2004    1032\n",
       "2016     899\n",
       "2003     707\n",
       "1999     644\n",
       "1995     564\n",
       "1998     563\n",
       "1997     528\n",
       "2001     519\n",
       "2018     391\n",
       "1991     354\n",
       "1996     354\n",
       "1994     338\n",
       "1990     294\n",
       "1992     166\n",
       "1986     158\n",
       "1988     153\n",
       "2019     142\n",
       "1987     130\n",
       "1993     111\n",
       "1989      85\n",
       "1984      82\n",
       "1983      68\n",
       "1982      68\n",
       "1985      34\n",
       "1979      26\n",
       "1975      16\n",
       "1980      14\n",
       "1974      11\n",
       "1978      10\n",
       "1938       7\n",
       "1976       6\n",
       "1981       6\n",
       "2020       5\n",
       "1977       5\n",
       "1972       4\n",
       "1958       3\n",
       "1959       3\n",
       "1955       3\n",
       "1937       3\n",
       "Name: modelDate, dtype: int64"
      ]
     },
     "execution_count": 46,
     "metadata": {},
     "output_type": "execute_result"
    }
   ],
   "source": [
    "modelDate=test.modelDate.value_counts()\n",
    "modelDate.loc[modelDate>2]"
   ]
  },
  {
   "cell_type": "code",
   "execution_count": 47,
   "metadata": {},
   "outputs": [
    {
     "data": {
      "text/plain": [
       "2012    2798\n",
       "2008    2606\n",
       "2011    2589\n",
       "2013    2488\n",
       "2014    2134\n",
       "2007    1964\n",
       "2010    1826\n",
       "2015    1770\n",
       "2017    1667\n",
       "2016    1615\n",
       "2018    1574\n",
       "2006    1269\n",
       "2019    1081\n",
       "2009     984\n",
       "2005     969\n",
       "2004     902\n",
       "2003     813\n",
       "2002     702\n",
       "2001     658\n",
       "1998     573\n",
       "1999     557\n",
       "2000     516\n",
       "1997     469\n",
       "2020     260\n",
       "1996     253\n",
       "1992     237\n",
       "1993     217\n",
       "1995     215\n",
       "1991     212\n",
       "1994     198\n",
       "1990     132\n",
       "1989      92\n",
       "1988      87\n",
       "1987      58\n",
       "1985      40\n",
       "1986      38\n",
       "1984      26\n",
       "1983      21\n",
       "1982      15\n",
       "1980       8\n",
       "1981       7\n",
       "1976       3\n",
       "1978       3\n",
       "1979       3\n",
       "1977       3\n",
       "1972       3\n",
       "1959       3\n",
       "1973       2\n",
       "1953       2\n",
       "1965       2\n",
       "1937       2\n",
       "1969       2\n",
       "1975       2\n",
       "Name: productionDate, dtype: int64"
      ]
     },
     "execution_count": 47,
     "metadata": {},
     "output_type": "execute_result"
    }
   ],
   "source": [
    "productionDate=test.productionDate.value_counts()\n",
    "productionDate.loc[productionDate>1]"
   ]
  },
  {
   "cell_type": "code",
   "execution_count": 9,
   "metadata": {
    "execution": {
     "iopub.execute_input": "2020-10-26T12:47:02.599966Z",
     "iopub.status.busy": "2020-10-26T12:47:02.598892Z",
     "iopub.status.idle": "2020-10-26T12:47:02.604335Z",
     "shell.execute_reply": "2020-10-26T12:47:02.60353Z"
    },
    "papermill": {
     "duration": 0.069985,
     "end_time": "2020-10-26T12:47:02.604497",
     "exception": false,
     "start_time": "2020-10-26T12:47:02.534512",
     "status": "completed"
    },
    "tags": []
   },
   "outputs": [
    {
     "data": {
      "text/html": [
       "<div>\n",
       "<style scoped>\n",
       "    .dataframe tbody tr th:only-of-type {\n",
       "        vertical-align: middle;\n",
       "    }\n",
       "\n",
       "    .dataframe tbody tr th {\n",
       "        vertical-align: top;\n",
       "    }\n",
       "\n",
       "    .dataframe thead th {\n",
       "        text-align: right;\n",
       "    }\n",
       "</style>\n",
       "<table border=\"1\" class=\"dataframe\">\n",
       "  <thead>\n",
       "    <tr style=\"text-align: right;\">\n",
       "      <th></th>\n",
       "      <th>bodyType</th>\n",
       "      <th>brand</th>\n",
       "      <th>car_url</th>\n",
       "      <th>color</th>\n",
       "      <th>complectation_dict</th>\n",
       "      <th>description</th>\n",
       "      <th>engineDisplacement</th>\n",
       "      <th>enginePower</th>\n",
       "      <th>equipment_dict</th>\n",
       "      <th>fuelType</th>\n",
       "      <th>...</th>\n",
       "      <th>vehicleConfiguration</th>\n",
       "      <th>vehicleTransmission</th>\n",
       "      <th>vendor</th>\n",
       "      <th>Владельцы</th>\n",
       "      <th>Владение</th>\n",
       "      <th>ПТС</th>\n",
       "      <th>Привод</th>\n",
       "      <th>Руль</th>\n",
       "      <th>Состояние</th>\n",
       "      <th>Таможня</th>\n",
       "    </tr>\n",
       "  </thead>\n",
       "  <tbody>\n",
       "    <tr>\n",
       "      <th>0</th>\n",
       "      <td>лифтбек</td>\n",
       "      <td>SKODA</td>\n",
       "      <td>https://auto.ru/cars/used/sale/skoda/octavia/1...</td>\n",
       "      <td>синий</td>\n",
       "      <td>NaN</td>\n",
       "      <td>Все автомобили, представленные в продаже, прох...</td>\n",
       "      <td>1.2 LTR</td>\n",
       "      <td>105 N12</td>\n",
       "      <td>{\"engine-proof\":true,\"tinted-glass\":true,\"airb...</td>\n",
       "      <td>бензин</td>\n",
       "      <td>...</td>\n",
       "      <td>LIFTBACK ROBOT 1.2</td>\n",
       "      <td>роботизированная</td>\n",
       "      <td>EUROPEAN</td>\n",
       "      <td>3 или более</td>\n",
       "      <td>NaN</td>\n",
       "      <td>Оригинал</td>\n",
       "      <td>передний</td>\n",
       "      <td>Левый</td>\n",
       "      <td>Не требует ремонта</td>\n",
       "      <td>Растаможен</td>\n",
       "    </tr>\n",
       "    <tr>\n",
       "      <th>1</th>\n",
       "      <td>лифтбек</td>\n",
       "      <td>SKODA</td>\n",
       "      <td>https://auto.ru/cars/used/sale/skoda/octavia/1...</td>\n",
       "      <td>чёрный</td>\n",
       "      <td>NaN</td>\n",
       "      <td>ЛОТ: 01217195\\nАвтопрага Север\\nДанный автомоб...</td>\n",
       "      <td>1.6 LTR</td>\n",
       "      <td>110 N12</td>\n",
       "      <td>{\"cruise-control\":true,\"asr\":true,\"esp\":true,\"...</td>\n",
       "      <td>бензин</td>\n",
       "      <td>...</td>\n",
       "      <td>LIFTBACK MECHANICAL 1.6</td>\n",
       "      <td>механическая</td>\n",
       "      <td>EUROPEAN</td>\n",
       "      <td>1 владелец</td>\n",
       "      <td>NaN</td>\n",
       "      <td>Оригинал</td>\n",
       "      <td>передний</td>\n",
       "      <td>Левый</td>\n",
       "      <td>Не требует ремонта</td>\n",
       "      <td>Растаможен</td>\n",
       "    </tr>\n",
       "    <tr>\n",
       "      <th>2</th>\n",
       "      <td>лифтбек</td>\n",
       "      <td>SKODA</td>\n",
       "      <td>https://auto.ru/cars/used/sale/skoda/superb/11...</td>\n",
       "      <td>серый</td>\n",
       "      <td>{\"id\":\"20026336\",\"name\":\"Ambition\",\"available_...</td>\n",
       "      <td>Все автомобили, представленные в продаже, прох...</td>\n",
       "      <td>1.8 LTR</td>\n",
       "      <td>152 N12</td>\n",
       "      <td>{\"cruise-control\":true,\"tinted-glass\":true,\"es...</td>\n",
       "      <td>бензин</td>\n",
       "      <td>...</td>\n",
       "      <td>LIFTBACK ROBOT 1.8</td>\n",
       "      <td>роботизированная</td>\n",
       "      <td>EUROPEAN</td>\n",
       "      <td>1 владелец</td>\n",
       "      <td>NaN</td>\n",
       "      <td>Оригинал</td>\n",
       "      <td>передний</td>\n",
       "      <td>Левый</td>\n",
       "      <td>Не требует ремонта</td>\n",
       "      <td>Растаможен</td>\n",
       "    </tr>\n",
       "    <tr>\n",
       "      <th>3</th>\n",
       "      <td>лифтбек</td>\n",
       "      <td>SKODA</td>\n",
       "      <td>https://auto.ru/cars/used/sale/skoda/octavia/1...</td>\n",
       "      <td>коричневый</td>\n",
       "      <td>{\"id\":\"20803582\",\"name\":\"Ambition\",\"available_...</td>\n",
       "      <td>КОМПЛЕКТ ЗИМНЕЙ (ЛЕТНЕЙ) РЕЗИНЫ ПО СЕЗОНУ В ПО...</td>\n",
       "      <td>1.6 LTR</td>\n",
       "      <td>110 N12</td>\n",
       "      <td>{\"cruise-control\":true,\"roller-blind-for-rear-...</td>\n",
       "      <td>бензин</td>\n",
       "      <td>...</td>\n",
       "      <td>LIFTBACK AUTOMATIC 1.6</td>\n",
       "      <td>автоматическая</td>\n",
       "      <td>EUROPEAN</td>\n",
       "      <td>1 владелец</td>\n",
       "      <td>NaN</td>\n",
       "      <td>Оригинал</td>\n",
       "      <td>передний</td>\n",
       "      <td>Левый</td>\n",
       "      <td>Не требует ремонта</td>\n",
       "      <td>Растаможен</td>\n",
       "    </tr>\n",
       "    <tr>\n",
       "      <th>4</th>\n",
       "      <td>лифтбек</td>\n",
       "      <td>SKODA</td>\n",
       "      <td>https://auto.ru/cars/used/sale/skoda/octavia/1...</td>\n",
       "      <td>белый</td>\n",
       "      <td>NaN</td>\n",
       "      <td>ЛОТ: 01220889\\nАвтопрага Север\\n\\nВы можете по...</td>\n",
       "      <td>1.8 LTR</td>\n",
       "      <td>152 N12</td>\n",
       "      <td>{\"cruise-control\":true,\"asr\":true,\"esp\":true,\"...</td>\n",
       "      <td>бензин</td>\n",
       "      <td>...</td>\n",
       "      <td>LIFTBACK AUTOMATIC 1.8</td>\n",
       "      <td>автоматическая</td>\n",
       "      <td>EUROPEAN</td>\n",
       "      <td>1 владелец</td>\n",
       "      <td>NaN</td>\n",
       "      <td>Оригинал</td>\n",
       "      <td>передний</td>\n",
       "      <td>Левый</td>\n",
       "      <td>Не требует ремонта</td>\n",
       "      <td>Растаможен</td>\n",
       "    </tr>\n",
       "  </tbody>\n",
       "</table>\n",
       "<p>5 rows × 32 columns</p>\n",
       "</div>"
      ],
      "text/plain": [
       "  bodyType  brand                                            car_url  \\\n",
       "0  лифтбек  SKODA  https://auto.ru/cars/used/sale/skoda/octavia/1...   \n",
       "1  лифтбек  SKODA  https://auto.ru/cars/used/sale/skoda/octavia/1...   \n",
       "2  лифтбек  SKODA  https://auto.ru/cars/used/sale/skoda/superb/11...   \n",
       "3  лифтбек  SKODA  https://auto.ru/cars/used/sale/skoda/octavia/1...   \n",
       "4  лифтбек  SKODA  https://auto.ru/cars/used/sale/skoda/octavia/1...   \n",
       "\n",
       "        color                                 complectation_dict  \\\n",
       "0       синий                                                NaN   \n",
       "1      чёрный                                                NaN   \n",
       "2       серый  {\"id\":\"20026336\",\"name\":\"Ambition\",\"available_...   \n",
       "3  коричневый  {\"id\":\"20803582\",\"name\":\"Ambition\",\"available_...   \n",
       "4       белый                                                NaN   \n",
       "\n",
       "                                         description engineDisplacement  \\\n",
       "0  Все автомобили, представленные в продаже, прох...            1.2 LTR   \n",
       "1  ЛОТ: 01217195\\nАвтопрага Север\\nДанный автомоб...            1.6 LTR   \n",
       "2  Все автомобили, представленные в продаже, прох...            1.8 LTR   \n",
       "3  КОМПЛЕКТ ЗИМНЕЙ (ЛЕТНЕЙ) РЕЗИНЫ ПО СЕЗОНУ В ПО...            1.6 LTR   \n",
       "4  ЛОТ: 01220889\\nАвтопрага Север\\n\\nВы можете по...            1.8 LTR   \n",
       "\n",
       "  enginePower                                     equipment_dict fuelType  \\\n",
       "0     105 N12  {\"engine-proof\":true,\"tinted-glass\":true,\"airb...   бензин   \n",
       "1     110 N12  {\"cruise-control\":true,\"asr\":true,\"esp\":true,\"...   бензин   \n",
       "2     152 N12  {\"cruise-control\":true,\"tinted-glass\":true,\"es...   бензин   \n",
       "3     110 N12  {\"cruise-control\":true,\"roller-blind-for-rear-...   бензин   \n",
       "4     152 N12  {\"cruise-control\":true,\"asr\":true,\"esp\":true,\"...   бензин   \n",
       "\n",
       "   ...     vehicleConfiguration  vehicleTransmission    vendor    Владельцы  \\\n",
       "0  ...       LIFTBACK ROBOT 1.2     роботизированная  EUROPEAN  3 или более   \n",
       "1  ...  LIFTBACK MECHANICAL 1.6         механическая  EUROPEAN   1 владелец   \n",
       "2  ...       LIFTBACK ROBOT 1.8     роботизированная  EUROPEAN   1 владелец   \n",
       "3  ...   LIFTBACK AUTOMATIC 1.6       автоматическая  EUROPEAN   1 владелец   \n",
       "4  ...   LIFTBACK AUTOMATIC 1.8       автоматическая  EUROPEAN   1 владелец   \n",
       "\n",
       "  Владение       ПТС    Привод   Руль           Состояние     Таможня  \n",
       "0      NaN  Оригинал  передний  Левый  Не требует ремонта  Растаможен  \n",
       "1      NaN  Оригинал  передний  Левый  Не требует ремонта  Растаможен  \n",
       "2      NaN  Оригинал  передний  Левый  Не требует ремонта  Растаможен  \n",
       "3      NaN  Оригинал  передний  Левый  Не требует ремонта  Растаможен  \n",
       "4      NaN  Оригинал  передний  Левый  Не требует ремонта  Растаможен  \n",
       "\n",
       "[5 rows x 32 columns]"
      ]
     },
     "execution_count": 9,
     "metadata": {},
     "output_type": "execute_result"
    }
   ],
   "source": [
    "test.head(5)"
   ]
  },
  {
   "cell_type": "code",
   "execution_count": 10,
   "metadata": {},
   "outputs": [
    {
     "data": {
      "text/html": [
       "<div>\n",
       "<style scoped>\n",
       "    .dataframe tbody tr th:only-of-type {\n",
       "        vertical-align: middle;\n",
       "    }\n",
       "\n",
       "    .dataframe tbody tr th {\n",
       "        vertical-align: top;\n",
       "    }\n",
       "\n",
       "    .dataframe thead th {\n",
       "        text-align: right;\n",
       "    }\n",
       "</style>\n",
       "<table border=\"1\" class=\"dataframe\">\n",
       "  <thead>\n",
       "    <tr style=\"text-align: right;\">\n",
       "      <th></th>\n",
       "      <th>bodyType</th>\n",
       "      <th>brand</th>\n",
       "      <th>car_url</th>\n",
       "      <th>color</th>\n",
       "      <th>complectation_dict</th>\n",
       "      <th>description</th>\n",
       "      <th>engineDisplacement</th>\n",
       "      <th>enginePower</th>\n",
       "      <th>equipment_dict</th>\n",
       "      <th>fuelType</th>\n",
       "      <th>...</th>\n",
       "      <th>vehicleConfiguration</th>\n",
       "      <th>vehicleTransmission</th>\n",
       "      <th>vendor</th>\n",
       "      <th>Владельцы</th>\n",
       "      <th>Владение</th>\n",
       "      <th>ПТС</th>\n",
       "      <th>Привод</th>\n",
       "      <th>Руль</th>\n",
       "      <th>Состояние</th>\n",
       "      <th>Таможня</th>\n",
       "    </tr>\n",
       "  </thead>\n",
       "  <tbody>\n",
       "    <tr>\n",
       "      <th>17702</th>\n",
       "      <td>седан</td>\n",
       "      <td>MERCEDES</td>\n",
       "      <td>https://auto.ru/cars/used/sale/mercedes/c_klas...</td>\n",
       "      <td>серый</td>\n",
       "      <td>NaN</td>\n",
       "      <td>В хорошем состоянии, все вапросы по телефону</td>\n",
       "      <td>1.8 LTR</td>\n",
       "      <td>122 N12</td>\n",
       "      <td>NaN</td>\n",
       "      <td>бензин</td>\n",
       "      <td>...</td>\n",
       "      <td>SEDAN AUTOMATIC 1.8</td>\n",
       "      <td>автоматическая</td>\n",
       "      <td>EUROPEAN</td>\n",
       "      <td>3 или более</td>\n",
       "      <td>2 года и 6 месяцев</td>\n",
       "      <td>Дубликат</td>\n",
       "      <td>задний</td>\n",
       "      <td>Левый</td>\n",
       "      <td>Не требует ремонта</td>\n",
       "      <td>Растаможен</td>\n",
       "    </tr>\n",
       "    <tr>\n",
       "      <th>33026</th>\n",
       "      <td>внедорожник 5 дв.</td>\n",
       "      <td>NISSAN</td>\n",
       "      <td>https://auto.ru/cars/used/sale/nissan/x_trail/...</td>\n",
       "      <td>серебристый</td>\n",
       "      <td>NaN</td>\n",
       "      <td>Продам отличный авто я второй владелец вписан ...</td>\n",
       "      <td>2.0 LTR</td>\n",
       "      <td>141 N12</td>\n",
       "      <td>{\"engine-proof\":true,\"cruise-control\":true,\"ti...</td>\n",
       "      <td>бензин</td>\n",
       "      <td>...</td>\n",
       "      <td>ALLROAD_5_DOORS VARIATOR 2.0</td>\n",
       "      <td>вариатор</td>\n",
       "      <td>JAPANESE</td>\n",
       "      <td>2 владельца</td>\n",
       "      <td>1 год и 5 месяцев</td>\n",
       "      <td>Оригинал</td>\n",
       "      <td>полный</td>\n",
       "      <td>Левый</td>\n",
       "      <td>Не требует ремонта</td>\n",
       "      <td>Растаможен</td>\n",
       "    </tr>\n",
       "    <tr>\n",
       "      <th>22664</th>\n",
       "      <td>седан</td>\n",
       "      <td>LEXUS</td>\n",
       "      <td>https://auto.ru/cars/used/sale/lexus/ls/109724...</td>\n",
       "      <td>чёрный</td>\n",
       "      <td>NaN</td>\n",
       "      <td>В исключительном состоянии. Все вопросы по тел...</td>\n",
       "      <td>5.0 LTR</td>\n",
       "      <td>394 N12</td>\n",
       "      <td>NaN</td>\n",
       "      <td>гибрид</td>\n",
       "      <td>...</td>\n",
       "      <td>SEDAN VARIATOR 5.0</td>\n",
       "      <td>вариатор</td>\n",
       "      <td>JAPANESE</td>\n",
       "      <td>3 или более</td>\n",
       "      <td>NaN</td>\n",
       "      <td>Оригинал</td>\n",
       "      <td>полный</td>\n",
       "      <td>Левый</td>\n",
       "      <td>Не требует ремонта</td>\n",
       "      <td>Растаможен</td>\n",
       "    </tr>\n",
       "  </tbody>\n",
       "</table>\n",
       "<p>3 rows × 32 columns</p>\n",
       "</div>"
      ],
      "text/plain": [
       "                bodyType     brand  \\\n",
       "17702              седан  MERCEDES   \n",
       "33026  внедорожник 5 дв.    NISSAN   \n",
       "22664              седан     LEXUS   \n",
       "\n",
       "                                                 car_url        color  \\\n",
       "17702  https://auto.ru/cars/used/sale/mercedes/c_klas...        серый   \n",
       "33026  https://auto.ru/cars/used/sale/nissan/x_trail/...  серебристый   \n",
       "22664  https://auto.ru/cars/used/sale/lexus/ls/109724...       чёрный   \n",
       "\n",
       "      complectation_dict                                        description  \\\n",
       "17702                NaN      В хорошем состоянии, все вапросы по телефону    \n",
       "33026                NaN  Продам отличный авто я второй владелец вписан ...   \n",
       "22664                NaN  В исключительном состоянии. Все вопросы по тел...   \n",
       "\n",
       "      engineDisplacement enginePower  \\\n",
       "17702            1.8 LTR     122 N12   \n",
       "33026            2.0 LTR     141 N12   \n",
       "22664            5.0 LTR     394 N12   \n",
       "\n",
       "                                          equipment_dict fuelType  ...  \\\n",
       "17702                                                NaN   бензин  ...   \n",
       "33026  {\"engine-proof\":true,\"cruise-control\":true,\"ti...   бензин  ...   \n",
       "22664                                                NaN   гибрид  ...   \n",
       "\n",
       "               vehicleConfiguration  vehicleTransmission    vendor  \\\n",
       "17702           SEDAN AUTOMATIC 1.8       автоматическая  EUROPEAN   \n",
       "33026  ALLROAD_5_DOORS VARIATOR 2.0             вариатор  JAPANESE   \n",
       "22664            SEDAN VARIATOR 5.0             вариатор  JAPANESE   \n",
       "\n",
       "         Владельцы            Владение       ПТС  Привод   Руль  \\\n",
       "17702  3 или более  2 года и 6 месяцев  Дубликат  задний  Левый   \n",
       "33026  2 владельца   1 год и 5 месяцев  Оригинал  полный  Левый   \n",
       "22664  3 или более                 NaN  Оригинал  полный  Левый   \n",
       "\n",
       "                Состояние     Таможня  \n",
       "17702  Не требует ремонта  Растаможен  \n",
       "33026  Не требует ремонта  Растаможен  \n",
       "22664  Не требует ремонта  Растаможен  \n",
       "\n",
       "[3 rows x 32 columns]"
      ]
     },
     "execution_count": 10,
     "metadata": {},
     "output_type": "execute_result"
    }
   ],
   "source": [
    "test.sample(3)"
   ]
  },
  {
   "cell_type": "code",
   "execution_count": 19,
   "metadata": {
    "execution": {
     "iopub.execute_input": "2020-10-26T12:47:02.7822Z",
     "iopub.status.busy": "2020-10-26T12:47:02.781391Z",
     "iopub.status.idle": "2020-10-26T12:47:02.797734Z",
     "shell.execute_reply": "2020-10-26T12:47:02.798395Z"
    },
    "papermill": {
     "duration": 0.160401,
     "end_time": "2020-10-26T12:47:02.798587",
     "exception": false,
     "start_time": "2020-10-26T12:47:02.638186",
     "status": "completed"
    },
    "tags": []
   },
   "outputs": [
    {
     "name": "stdout",
     "output_type": "stream",
     "text": [
      "<class 'pandas.core.frame.DataFrame'>\n",
      "RangeIndex: 34686 entries, 0 to 34685\n",
      "Data columns (total 32 columns):\n",
      " #   Column                Non-Null Count  Dtype \n",
      "---  ------                --------------  ----- \n",
      " 0   bodyType              34686 non-null  object\n",
      " 1   brand                 34686 non-null  object\n",
      " 2   car_url               34686 non-null  object\n",
      " 3   color                 34686 non-null  object\n",
      " 4   complectation_dict    6418 non-null   object\n",
      " 5   description           34686 non-null  object\n",
      " 6   engineDisplacement    34686 non-null  object\n",
      " 7   enginePower           34686 non-null  object\n",
      " 8   equipment_dict        24690 non-null  object\n",
      " 9   fuelType              34686 non-null  object\n",
      " 10  image                 34686 non-null  object\n",
      " 11  mileage               34686 non-null  int64 \n",
      " 12  modelDate             34686 non-null  int64 \n",
      " 13  model_info            34686 non-null  object\n",
      " 14  model_name            34686 non-null  object\n",
      " 15  name                  34686 non-null  object\n",
      " 16  numberOfDoors         34686 non-null  int64 \n",
      " 17  parsing_unixtime      34686 non-null  int64 \n",
      " 18  priceCurrency         34686 non-null  object\n",
      " 19  productionDate        34686 non-null  int64 \n",
      " 20  sell_id               34686 non-null  int64 \n",
      " 21  super_gen             34686 non-null  object\n",
      " 22  vehicleConfiguration  34686 non-null  object\n",
      " 23  vehicleTransmission   34686 non-null  object\n",
      " 24  vendor                34686 non-null  object\n",
      " 25  Владельцы             34686 non-null  object\n",
      " 26  Владение              11995 non-null  object\n",
      " 27  ПТС                   34685 non-null  object\n",
      " 28  Привод                34686 non-null  object\n",
      " 29  Руль                  34686 non-null  object\n",
      " 30  Состояние             34686 non-null  object\n",
      " 31  Таможня               34686 non-null  object\n",
      "dtypes: int64(6), object(26)\n",
      "memory usage: 8.5+ MB\n"
     ]
    }
   ],
   "source": [
    "test.info()"
   ]
  },
  {
   "cell_type": "markdown",
   "metadata": {
    "papermill": {
     "duration": 0.033402,
     "end_time": "2020-10-26T12:47:02.866506",
     "exception": false,
     "start_time": "2020-10-26T12:47:02.833104",
     "status": "completed"
    },
    "tags": []
   },
   "source": [
    "## Data Preprocessing"
   ]
  },
  {
   "cell_type": "code",
   "execution_count": 40,
   "metadata": {
    "execution": {
     "iopub.execute_input": "2020-10-26T12:47:02.941177Z",
     "iopub.status.busy": "2020-10-26T12:47:02.94004Z",
     "iopub.status.idle": "2020-10-26T12:47:02.94372Z",
     "shell.execute_reply": "2020-10-26T12:47:02.943059Z"
    },
    "papermill": {
     "duration": 0.042812,
     "end_time": "2020-10-26T12:47:02.943868",
     "exception": false,
     "start_time": "2020-10-26T12:47:02.901056",
     "status": "completed"
    },
    "tags": []
   },
   "outputs": [
    {
     "name": "stdout",
     "output_type": "stream",
     "text": [
      "<class 'pandas.core.frame.DataFrame'>\n",
      "RangeIndex: 888 entries, 0 to 887\n",
      "Data columns (total 29 columns):\n",
      " #   Column                Non-Null Count  Dtype  \n",
      "---  ------                --------------  -----  \n",
      " 0   bodyType              888 non-null    object \n",
      " 1   brand                 888 non-null    object \n",
      " 2   color                 888 non-null    object \n",
      " 3   complectation_dict    230 non-null    object \n",
      " 4   engineDisplacement    888 non-null    object \n",
      " 5   enginePower           888 non-null    object \n",
      " 6   equipment_dict        770 non-null    object \n",
      " 7   fuelType              888 non-null    object \n",
      " 8   mileage               888 non-null    float64\n",
      " 9   productionDate        888 non-null    float64\n",
      " 10  sell_id               888 non-null    int64  \n",
      " 11  modelDate             888 non-null    float64\n",
      " 12  model_info            888 non-null    object \n",
      " 13  model_name            888 non-null    object \n",
      " 14  name                  888 non-null    object \n",
      " 15  numberOfDoors         888 non-null    float64\n",
      " 16  parsing_unixtime      888 non-null    float64\n",
      " 17  super_gen             888 non-null    object \n",
      " 18  vehicleConfiguration  888 non-null    object \n",
      " 19  vehicleTransmission   888 non-null    object \n",
      " 20  vendor                888 non-null    object \n",
      " 21  Владельцы             888 non-null    object \n",
      " 22  Владение              881 non-null    float64\n",
      " 23  ПТС                   888 non-null    object \n",
      " 24  Привод                888 non-null    object \n",
      " 25  Руль                  888 non-null    object \n",
      " 26  price                 888 non-null    float64\n",
      " 27  priceEUR              888 non-null    float64\n",
      " 28  priceUSD              888 non-null    float64\n",
      "dtypes: float64(9), int64(1), object(19)\n",
      "memory usage: 201.3+ KB\n"
     ]
    }
   ],
   "source": [
    "train_my.info()"
   ]
  },
  {
   "cell_type": "code",
   "execution_count": 17,
   "metadata": {
    "execution": {
     "iopub.execute_input": "2020-10-26T12:47:03.025049Z",
     "iopub.status.busy": "2020-10-26T12:47:03.024167Z",
     "iopub.status.idle": "2020-10-26T12:47:03.134429Z",
     "shell.execute_reply": "2020-10-26T12:47:03.133689Z"
    },
    "papermill": {
     "duration": 0.156124,
     "end_time": "2020-10-26T12:47:03.134605",
     "exception": false,
     "start_time": "2020-10-26T12:47:02.978481",
     "status": "completed"
    },
    "tags": []
   },
   "outputs": [],
   "source": [
    "train.dropna(subset=['productionDate','mileage'], inplace=True)\n",
    "train.dropna(subset=['price'], inplace=True)"
   ]
  },
  {
   "cell_type": "code",
   "execution_count": 18,
   "metadata": {
    "execution": {
     "iopub.execute_input": "2020-10-26T12:47:03.218827Z",
     "iopub.status.busy": "2020-10-26T12:47:03.21765Z",
     "iopub.status.idle": "2020-10-26T12:47:03.222821Z",
     "shell.execute_reply": "2020-10-26T12:47:03.223415Z"
    },
    "papermill": {
     "duration": 0.054414,
     "end_time": "2020-10-26T12:47:03.223614",
     "exception": false,
     "start_time": "2020-10-26T12:47:03.1692",
     "status": "completed"
    },
    "tags": []
   },
   "outputs": [],
   "source": [
    "# для baseline просто возьму пару схожих признаков без полной обработки\n",
    "columns = ['bodyType', 'brand', 'productionDate', 'engineDisplacement', 'mileage']\n",
    "df_train = train[columns]\n",
    "df_test = test[columns]\n",
    "y = train['price']"
   ]
  },
  {
   "cell_type": "code",
   "execution_count": 41,
   "metadata": {},
   "outputs": [],
   "source": [
    "df_train_my = train_my[columns]\n",
    "y = train_my['price']"
   ]
  },
  {
   "cell_type": "markdown",
   "metadata": {
    "papermill": {
     "duration": 0.033657,
     "end_time": "2020-10-26T12:47:03.29162",
     "exception": false,
     "start_time": "2020-10-26T12:47:03.257963",
     "status": "completed"
    },
    "tags": []
   },
   "source": [
    "## Label Encoding"
   ]
  },
  {
   "cell_type": "code",
   "execution_count": null,
   "metadata": {
    "execution": {
     "iopub.execute_input": "2020-10-26T12:47:03.371409Z",
     "iopub.status.busy": "2020-10-26T12:47:03.370451Z",
     "iopub.status.idle": "2020-10-26T12:47:03.40603Z",
     "shell.execute_reply": "2020-10-26T12:47:03.405053Z"
    },
    "papermill": {
     "duration": 0.080223,
     "end_time": "2020-10-26T12:47:03.406196",
     "exception": false,
     "start_time": "2020-10-26T12:47:03.325973",
     "status": "completed"
    },
    "tags": []
   },
   "outputs": [],
   "source": [
    "# ВАЖНО! дря корректной обработки признаков объединяем трейн и тест в один датасет\n",
    "df_train['sample'] = 1 # помечаем где у нас трейн\n",
    "df_test['sample'] = 0 # помечаем где у нас тест\n",
    "\n",
    "data = df_test.append(df_train, sort=False).reset_index(drop=True) # объединяем"
   ]
  },
  {
   "cell_type": "code",
   "execution_count": null,
   "metadata": {},
   "outputs": [],
   "source": [
    "df_train_my['sample'] = 1 # помечаем где у нас трейн\n",
    "data = df_test.append(df_train, sort=False).reset_index(drop=True) # объединяем"
   ]
  },
  {
   "cell_type": "code",
   "execution_count": null,
   "metadata": {},
   "outputs": [],
   "source": []
  },
  {
   "cell_type": "code",
   "execution_count": 21,
   "metadata": {
    "execution": {
     "iopub.execute_input": "2020-10-26T12:47:03.489637Z",
     "iopub.status.busy": "2020-10-26T12:47:03.483022Z",
     "iopub.status.idle": "2020-10-26T12:47:03.549376Z",
     "shell.execute_reply": "2020-10-26T12:47:03.548539Z"
    },
    "papermill": {
     "duration": 0.10809,
     "end_time": "2020-10-26T12:47:03.549533",
     "exception": false,
     "start_time": "2020-10-26T12:47:03.441443",
     "status": "completed"
    },
    "tags": []
   },
   "outputs": [],
   "source": [
    "# для катбуста не нужно собственноручно переводить в категорию\n",
    "for colum in ['bodyType', 'brand', 'engineDisplacement']:\n",
    "    data[colum] = data[colum].astype('category').cat.codes"
   ]
  },
  {
   "cell_type": "code",
   "execution_count": 22,
   "metadata": {
    "execution": {
     "iopub.execute_input": "2020-10-26T12:47:03.6352Z",
     "iopub.status.busy": "2020-10-26T12:47:03.633973Z",
     "iopub.status.idle": "2020-10-26T12:47:03.646722Z",
     "shell.execute_reply": "2020-10-26T12:47:03.645899Z"
    },
    "papermill": {
     "duration": 0.06183,
     "end_time": "2020-10-26T12:47:03.646867",
     "exception": false,
     "start_time": "2020-10-26T12:47:03.585037",
     "status": "completed"
    },
    "tags": []
   },
   "outputs": [
    {
     "data": {
      "text/html": [
       "<div>\n",
       "<style scoped>\n",
       "    .dataframe tbody tr th:only-of-type {\n",
       "        vertical-align: middle;\n",
       "    }\n",
       "\n",
       "    .dataframe tbody tr th {\n",
       "        vertical-align: top;\n",
       "    }\n",
       "\n",
       "    .dataframe thead th {\n",
       "        text-align: right;\n",
       "    }\n",
       "</style>\n",
       "<table border=\"1\" class=\"dataframe\">\n",
       "  <thead>\n",
       "    <tr style=\"text-align: right;\">\n",
       "      <th></th>\n",
       "      <th>bodyType</th>\n",
       "      <th>brand</th>\n",
       "      <th>productionDate</th>\n",
       "      <th>engineDisplacement</th>\n",
       "      <th>mileage</th>\n",
       "      <th>sample</th>\n",
       "    </tr>\n",
       "  </thead>\n",
       "  <tbody>\n",
       "    <tr>\n",
       "      <th>0</th>\n",
       "      <td>176</td>\n",
       "      <td>29</td>\n",
       "      <td>2014</td>\n",
       "      <td>11</td>\n",
       "      <td>74000</td>\n",
       "      <td>0</td>\n",
       "    </tr>\n",
       "    <tr>\n",
       "      <th>1</th>\n",
       "      <td>176</td>\n",
       "      <td>29</td>\n",
       "      <td>2017</td>\n",
       "      <td>27</td>\n",
       "      <td>60563</td>\n",
       "      <td>0</td>\n",
       "    </tr>\n",
       "    <tr>\n",
       "      <th>2</th>\n",
       "      <td>176</td>\n",
       "      <td>29</td>\n",
       "      <td>2014</td>\n",
       "      <td>33</td>\n",
       "      <td>88000</td>\n",
       "      <td>0</td>\n",
       "    </tr>\n",
       "    <tr>\n",
       "      <th>3</th>\n",
       "      <td>176</td>\n",
       "      <td>29</td>\n",
       "      <td>2014</td>\n",
       "      <td>27</td>\n",
       "      <td>95000</td>\n",
       "      <td>0</td>\n",
       "    </tr>\n",
       "    <tr>\n",
       "      <th>4</th>\n",
       "      <td>176</td>\n",
       "      <td>29</td>\n",
       "      <td>2012</td>\n",
       "      <td>33</td>\n",
       "      <td>58536</td>\n",
       "      <td>0</td>\n",
       "    </tr>\n",
       "    <tr>\n",
       "      <th>...</th>\n",
       "      <td>...</td>\n",
       "      <td>...</td>\n",
       "      <td>...</td>\n",
       "      <td>...</td>\n",
       "      <td>...</td>\n",
       "      <td>...</td>\n",
       "    </tr>\n",
       "    <tr>\n",
       "      <th>123649</th>\n",
       "      <td>57</td>\n",
       "      <td>30</td>\n",
       "      <td>2006</td>\n",
       "      <td>97</td>\n",
       "      <td>260000</td>\n",
       "      <td>1</td>\n",
       "    </tr>\n",
       "    <tr>\n",
       "      <th>123650</th>\n",
       "      <td>57</td>\n",
       "      <td>30</td>\n",
       "      <td>2007</td>\n",
       "      <td>97</td>\n",
       "      <td>300000</td>\n",
       "      <td>1</td>\n",
       "    </tr>\n",
       "    <tr>\n",
       "      <th>123651</th>\n",
       "      <td>57</td>\n",
       "      <td>30</td>\n",
       "      <td>2014</td>\n",
       "      <td>72</td>\n",
       "      <td>126000</td>\n",
       "      <td>1</td>\n",
       "    </tr>\n",
       "    <tr>\n",
       "      <th>123652</th>\n",
       "      <td>57</td>\n",
       "      <td>30</td>\n",
       "      <td>2013</td>\n",
       "      <td>72</td>\n",
       "      <td>84000</td>\n",
       "      <td>1</td>\n",
       "    </tr>\n",
       "    <tr>\n",
       "      <th>123653</th>\n",
       "      <td>57</td>\n",
       "      <td>30</td>\n",
       "      <td>2014</td>\n",
       "      <td>72</td>\n",
       "      <td>144000</td>\n",
       "      <td>1</td>\n",
       "    </tr>\n",
       "  </tbody>\n",
       "</table>\n",
       "<p>123654 rows × 6 columns</p>\n",
       "</div>"
      ],
      "text/plain": [
       "        bodyType  brand  productionDate  engineDisplacement  mileage  sample\n",
       "0            176     29            2014                  11    74000       0\n",
       "1            176     29            2017                  27    60563       0\n",
       "2            176     29            2014                  33    88000       0\n",
       "3            176     29            2014                  27    95000       0\n",
       "4            176     29            2012                  33    58536       0\n",
       "...          ...    ...             ...                 ...      ...     ...\n",
       "123649        57     30            2006                  97   260000       1\n",
       "123650        57     30            2007                  97   300000       1\n",
       "123651        57     30            2014                  72   126000       1\n",
       "123652        57     30            2013                  72    84000       1\n",
       "123653        57     30            2014                  72   144000       1\n",
       "\n",
       "[123654 rows x 6 columns]"
      ]
     },
     "execution_count": 22,
     "metadata": {},
     "output_type": "execute_result"
    }
   ],
   "source": [
    "data"
   ]
  },
  {
   "cell_type": "code",
   "execution_count": 23,
   "metadata": {
    "execution": {
     "iopub.execute_input": "2020-10-26T12:47:03.727044Z",
     "iopub.status.busy": "2020-10-26T12:47:03.725742Z",
     "iopub.status.idle": "2020-10-26T12:47:03.753844Z",
     "shell.execute_reply": "2020-10-26T12:47:03.753001Z"
    },
    "papermill": {
     "duration": 0.071275,
     "end_time": "2020-10-26T12:47:03.754",
     "exception": false,
     "start_time": "2020-10-26T12:47:03.682725",
     "status": "completed"
    },
    "tags": []
   },
   "outputs": [],
   "source": [
    "X = data.query('sample == 1').drop(['sample'], axis=1)\n",
    "X_sub = data.query('sample == 0').drop(['sample'], axis=1)"
   ]
  },
  {
   "cell_type": "markdown",
   "metadata": {
    "papermill": {
     "duration": 0.035737,
     "end_time": "2020-10-26T12:47:03.826552",
     "exception": false,
     "start_time": "2020-10-26T12:47:03.790815",
     "status": "completed"
    },
    "tags": []
   },
   "source": [
    "## Train Split"
   ]
  },
  {
   "cell_type": "code",
   "execution_count": 24,
   "metadata": {
    "execution": {
     "iopub.execute_input": "2020-10-26T12:47:03.90948Z",
     "iopub.status.busy": "2020-10-26T12:47:03.908518Z",
     "iopub.status.idle": "2020-10-26T12:47:03.923409Z",
     "shell.execute_reply": "2020-10-26T12:47:03.922602Z"
    },
    "papermill": {
     "duration": 0.059208,
     "end_time": "2020-10-26T12:47:03.923564",
     "exception": false,
     "start_time": "2020-10-26T12:47:03.864356",
     "status": "completed"
    },
    "tags": []
   },
   "outputs": [],
   "source": [
    "X_train, X_test, y_train, y_test = train_test_split(X, y, test_size=VAL_SIZE, shuffle=True, random_state=RANDOM_SEED)"
   ]
  },
  {
   "cell_type": "markdown",
   "metadata": {},
   "source": [
    "# Model 1: Создадим \"наивную\" модель \n",
    "Эта модель будет предсказывать среднюю цену по модели двигателя (engineDisplacement). \n",
    "C ней будем сравнивать другие модели.\n",
    "\n",
    "\n"
   ]
  },
  {
   "cell_type": "code",
   "execution_count": 25,
   "metadata": {},
   "outputs": [],
   "source": [
    "tmp_train = X_train.copy()\n",
    "tmp_train['price'] = y_train"
   ]
  },
  {
   "cell_type": "code",
   "execution_count": 26,
   "metadata": {},
   "outputs": [
    {
     "name": "stdout",
     "output_type": "stream",
     "text": [
      "Точность наивной модели по метрике MAPE: 117.95%\n"
     ]
    }
   ],
   "source": [
    "# Находим median по экземплярам engineDisplacement в трейне и размечаем тест\n",
    "predict = X_test['engineDisplacement'].map(tmp_train.groupby('engineDisplacement')['price'].median())\n",
    "\n",
    "#оцениваем точность\n",
    "print(f\"Точность наивной модели по метрике MAPE: {(mape(y_test, predict.values))*100:0.2f}%\")"
   ]
  },
  {
   "cell_type": "markdown",
   "metadata": {
    "papermill": {
     "duration": 0.037164,
     "end_time": "2020-10-26T12:47:03.997616",
     "exception": false,
     "start_time": "2020-10-26T12:47:03.960452",
     "status": "completed"
    },
    "tags": []
   },
   "source": [
    "# # Model 2 : CatBoost\n",
    "![](https://pbs.twimg.com/media/DP-jUCyXcAArRTo.png:large)   \n",
    "\n",
    "\n",
    "У нас в данных практически все признаки категориальные. Специально для работы с такими данными была создана очень удобная библиотека CatBoost от Яндекса. [https://catboost.ai](http://)     \n",
    "На данный момент **CatBoost является одной из лучших библиотек для табличных данных!**\n",
    "\n",
    "#### Полезные видео о CatBoost (на русском):\n",
    "* [Доклад про CatBoost](https://youtu.be/9ZrfErvm97M)\n",
    "* [Свежий Туториал от команды CatBoost (практическая часть)](https://youtu.be/wQt4kgAOgV0) "
   ]
  },
  {
   "cell_type": "markdown",
   "metadata": {
    "papermill": {
     "duration": 0.035833,
     "end_time": "2020-10-26T12:47:04.149539",
     "exception": false,
     "start_time": "2020-10-26T12:47:04.113706",
     "status": "completed"
    },
    "tags": []
   },
   "source": [
    "## Fit"
   ]
  },
  {
   "cell_type": "code",
   "execution_count": 27,
   "metadata": {
    "execution": {
     "iopub.execute_input": "2020-10-26T12:47:04.256865Z",
     "iopub.status.busy": "2020-10-26T12:47:04.248328Z",
     "iopub.status.idle": "2020-10-26T12:48:12.17834Z",
     "shell.execute_reply": "2020-10-26T12:48:12.17762Z"
    },
    "papermill": {
     "duration": 67.991521,
     "end_time": "2020-10-26T12:48:12.178488",
     "exception": false,
     "start_time": "2020-10-26T12:47:04.186967",
     "status": "completed"
    },
    "tags": []
   },
   "outputs": [],
   "source": [
    "model = CatBoostRegressor(iterations = 5000,\n",
    "                          random_seed = RANDOM_SEED,\n",
    "                          eval_metric='MAPE',\n",
    "                          custom_metric=['R2', 'MAE'],\n",
    "                          silent=True,\n",
    "                         )\n",
    "model.fit(X_train, y_train,\n",
    "         #cat_features=cat_features_ids,\n",
    "         eval_set=(X_test, y_test),\n",
    "         verbose_eval=0,\n",
    "         use_best_model=True,\n",
    "         #plot=True\n",
    "         )\n",
    "\n",
    "model.save_model('catboost_single_model_baseline.model')"
   ]
  },
  {
   "cell_type": "code",
   "execution_count": 28,
   "metadata": {},
   "outputs": [
    {
     "name": "stdout",
     "output_type": "stream",
     "text": [
      "Точность модели по метрике MAPE: 18.04%\n"
     ]
    }
   ],
   "source": [
    "# оцениваем точность\n",
    "predict = model.predict(X_test)\n",
    "print(f\"Точность модели по метрике MAPE: {(mape(y_test, predict))*100:0.2f}%\")"
   ]
  },
  {
   "cell_type": "markdown",
   "metadata": {
    "papermill": {
     "duration": 0.088891,
     "end_time": "2020-10-26T12:48:12.562943",
     "exception": false,
     "start_time": "2020-10-26T12:48:12.474052",
     "status": "completed"
    },
    "tags": []
   },
   "source": [
    "Вот так просто со старта, даже не трогая сами данные и не подбирая настройки catboosta, получаем модель с уровнем ошибки в 18%!"
   ]
  },
  {
   "cell_type": "markdown",
   "metadata": {},
   "source": [
    "### Log Traget\n",
    "Попробуем взять таргет в логорифм - это позволит уменьшить влияние выбросов на обучение модели (используем для этого np.log и np.exp).    \n",
    "В принциепе мы можем использовать любое приобразование на целевую переменную. Например деление на курс доллара, евро или гречки :) в дату сбора данных, смотрим дату парсинга в тесте в **parsing_unixtime**"
   ]
  },
  {
   "cell_type": "code",
   "execution_count": 29,
   "metadata": {},
   "outputs": [
    {
     "data": {
      "text/html": [
       "<div>\n",
       "<style scoped>\n",
       "    .dataframe tbody tr th:only-of-type {\n",
       "        vertical-align: middle;\n",
       "    }\n",
       "\n",
       "    .dataframe tbody tr th {\n",
       "        vertical-align: top;\n",
       "    }\n",
       "\n",
       "    .dataframe thead th {\n",
       "        text-align: right;\n",
       "    }\n",
       "</style>\n",
       "<table border=\"1\" class=\"dataframe\">\n",
       "  <thead>\n",
       "    <tr style=\"text-align: right;\">\n",
       "      <th></th>\n",
       "      <th>parsing_unixtime</th>\n",
       "      <th>unixtime</th>\n",
       "    </tr>\n",
       "  </thead>\n",
       "  <tbody>\n",
       "    <tr>\n",
       "      <th>9705</th>\n",
       "      <td>1603116197</td>\n",
       "      <td>2020-10-19</td>\n",
       "    </tr>\n",
       "    <tr>\n",
       "      <th>10407</th>\n",
       "      <td>1603118942</td>\n",
       "      <td>2020-10-19</td>\n",
       "    </tr>\n",
       "    <tr>\n",
       "      <th>10408</th>\n",
       "      <td>1603118945</td>\n",
       "      <td>2020-10-19</td>\n",
       "    </tr>\n",
       "    <tr>\n",
       "      <th>10409</th>\n",
       "      <td>1603118949</td>\n",
       "      <td>2020-10-19</td>\n",
       "    </tr>\n",
       "    <tr>\n",
       "      <th>10410</th>\n",
       "      <td>1603118953</td>\n",
       "      <td>2020-10-19</td>\n",
       "    </tr>\n",
       "    <tr>\n",
       "      <th>...</th>\n",
       "      <td>...</td>\n",
       "      <td>...</td>\n",
       "    </tr>\n",
       "    <tr>\n",
       "      <th>34374</th>\n",
       "      <td>1603682685</td>\n",
       "      <td>2020-10-26</td>\n",
       "    </tr>\n",
       "    <tr>\n",
       "      <th>34373</th>\n",
       "      <td>1603682679</td>\n",
       "      <td>2020-10-26</td>\n",
       "    </tr>\n",
       "    <tr>\n",
       "      <th>34372</th>\n",
       "      <td>1603682676</td>\n",
       "      <td>2020-10-26</td>\n",
       "    </tr>\n",
       "    <tr>\n",
       "      <th>34370</th>\n",
       "      <td>1603682667</td>\n",
       "      <td>2020-10-26</td>\n",
       "    </tr>\n",
       "    <tr>\n",
       "      <th>34685</th>\n",
       "      <td>1603710264</td>\n",
       "      <td>2020-10-26</td>\n",
       "    </tr>\n",
       "  </tbody>\n",
       "</table>\n",
       "<p>34686 rows × 2 columns</p>\n",
       "</div>"
      ],
      "text/plain": [
       "       parsing_unixtime    unixtime\n",
       "9705         1603116197  2020-10-19\n",
       "10407        1603118942  2020-10-19\n",
       "10408        1603118945  2020-10-19\n",
       "10409        1603118949  2020-10-19\n",
       "10410        1603118953  2020-10-19\n",
       "...                 ...         ...\n",
       "34374        1603682685  2020-10-26\n",
       "34373        1603682679  2020-10-26\n",
       "34372        1603682676  2020-10-26\n",
       "34370        1603682667  2020-10-26\n",
       "34685        1603710264  2020-10-26\n",
       "\n",
       "[34686 rows x 2 columns]"
      ]
     },
     "execution_count": 29,
     "metadata": {},
     "output_type": "execute_result"
    }
   ],
   "source": [
    "# попытки разобраться с признаком parse_unixtime\n",
    "from datetime import datetime\n",
    "def parseunix(x):\n",
    "    ts = int(x)\n",
    "    return datetime.utcfromtimestamp(ts).strftime('%Y-%m-%d')\n",
    "\n",
    "df_=test.loc[:,['parsing_unixtime']] \n",
    "df_['unixtime']=df_['parsing_unixtime'].apply(parseunix)\n",
    "\n",
    "df_.sort_values(by='unixtime',ascending=True)"
   ]
  },
  {
   "cell_type": "code",
   "execution_count": 30,
   "metadata": {},
   "outputs": [
    {
     "data": {
      "text/plain": [
       "53199    13.060488\n",
       "75086    14.762874\n",
       "43113    12.762827\n",
       "69668    12.785491\n",
       "70499    11.918391\n",
       "           ...    \n",
       "6291     14.508657\n",
       "55136    12.468437\n",
       "77178    13.217674\n",
       "865      12.641097\n",
       "15861    14.403297\n",
       "Name: price, Length: 71174, dtype: float64"
      ]
     },
     "execution_count": 30,
     "metadata": {},
     "output_type": "execute_result"
    }
   ],
   "source": [
    "np.log(y_train)"
   ]
  },
  {
   "cell_type": "code",
   "execution_count": 31,
   "metadata": {},
   "outputs": [],
   "source": [
    "model = CatBoostRegressor(iterations = 5000,\n",
    "                          random_seed = RANDOM_SEED,\n",
    "                          eval_metric='MAPE',\n",
    "                          custom_metric=['R2', 'MAE'],\n",
    "                          silent=True,\n",
    "                         )\n",
    "model.fit(X_train, np.log(y_train),\n",
    "         #cat_features=cat_features_ids,\n",
    "         eval_set=(X_test, np.log(y_test)),\n",
    "         verbose_eval=0,\n",
    "         use_best_model=True,\n",
    "         #plot=True\n",
    "         )\n",
    "\n",
    "model.save_model('catboost_single_model_2_baseline.model')"
   ]
  },
  {
   "cell_type": "code",
   "execution_count": 32,
   "metadata": {},
   "outputs": [],
   "source": [
    "predict_test = np.exp(model.predict(X_test))\n",
    "predict_submission = np.exp(model.predict(X_sub))"
   ]
  },
  {
   "cell_type": "code",
   "execution_count": 33,
   "metadata": {},
   "outputs": [
    {
     "name": "stdout",
     "output_type": "stream",
     "text": [
      "Точность модели по метрике MAPE: 15.05%\n"
     ]
    }
   ],
   "source": [
    "print(f\"Точность модели по метрике MAPE: {(mape(y_test, predict_test))*100:0.2f}%\")"
   ]
  },
  {
   "cell_type": "markdown",
   "metadata": {},
   "source": [
    "Как видим точность возросла до 15%, а что будет на ЛБ?"
   ]
  },
  {
   "cell_type": "markdown",
   "metadata": {
    "papermill": {
     "duration": 0.085876,
     "end_time": "2020-10-26T12:48:12.734207",
     "exception": false,
     "start_time": "2020-10-26T12:48:12.648331",
     "status": "completed"
    },
    "tags": []
   },
   "source": [
    "# Submission"
   ]
  },
  {
   "cell_type": "code",
   "execution_count": 37,
   "metadata": {
    "execution": {
     "iopub.execute_input": "2020-10-26T12:48:13.227584Z",
     "iopub.status.busy": "2020-10-26T12:48:13.226285Z",
     "iopub.status.idle": "2020-10-26T12:48:13.762529Z",
     "shell.execute_reply": "2020-10-26T12:48:13.763259Z"
    },
    "papermill": {
     "duration": 0.628302,
     "end_time": "2020-10-26T12:48:13.763488",
     "exception": false,
     "start_time": "2020-10-26T12:48:13.135186",
     "status": "completed"
    },
    "tags": []
   },
   "outputs": [
    {
     "name": "stdout",
     "output_type": "stream",
     "text": [
      "<class 'pandas.core.frame.DataFrame'>\n",
      "RangeIndex: 34686 entries, 0 to 34685\n",
      "Data columns (total 2 columns):\n",
      " #   Column   Non-Null Count  Dtype  \n",
      "---  ------   --------------  -----  \n",
      " 0   sell_id  34686 non-null  int64  \n",
      " 1   price    34686 non-null  float64\n",
      "dtypes: float64(1), int64(1)\n",
      "memory usage: 542.1 KB\n"
     ]
    }
   ],
   "source": [
    "sample_submission['price'] = predict_submission\n",
    "sample_submission.to_csv(f'submission_notmyds_v{VERSION}.csv', index=False)\n",
    "sample_submission.head(10)\n",
    "sample_submission.info()"
   ]
  },
  {
   "cell_type": "markdown",
   "metadata": {
    "papermill": {
     "duration": 0.083769,
     "end_time": "2020-10-26T12:48:13.930562",
     "exception": false,
     "start_time": "2020-10-26T12:48:13.846793",
     "status": "completed"
    },
    "tags": []
   },
   "source": [
    "В итоге получили **MAPE 27%** на ЛБ!\n",
    "\n",
    "Большая разница в ошибке может указывать на то что тест и трейн имеют различия по выборке или то что данные в трейне могли уже устареть и их нужно обновлять."
   ]
  },
  {
   "cell_type": "markdown",
   "metadata": {
    "papermill": {
     "duration": 0.087712,
     "end_time": "2020-10-26T12:48:14.104388",
     "exception": false,
     "start_time": "2020-10-26T12:48:14.016676",
     "status": "completed"
    },
    "tags": []
   },
   "source": [
    "# What's next?\n",
    "Или что еще можно сделать, чтоб улучшить результат:\n",
    "\n",
    "* Спарсить свежие данные \n",
    "* Посмотреть, что можно извлечь из признаков или как еще можно обработать признаки\n",
    "* Сгенерировать новые признаки\n",
    "* Попробовать подобрать параметры модели\n",
    "* Попробовать другие алгоритмы и библиотеки ML\n",
    "* Сделать Ансамбль моделей, Blending, Stacking"
   ]
  },
  {
   "cell_type": "markdown",
   "metadata": {},
   "source": [
    "Подробный чек лист: https://docs.google.com/spreadsheets/d/1I_ErM3U0Cs7Rs1obyZbIEGtVn-H47pHNCi4xdDgUmXY/edit?usp=sharing"
   ]
  },
  {
   "cell_type": "code",
   "execution_count": null,
   "metadata": {
    "papermill": {
     "duration": 0.082055,
     "end_time": "2020-10-26T12:48:14.270602",
     "exception": false,
     "start_time": "2020-10-26T12:48:14.188547",
     "status": "completed"
    },
    "tags": []
   },
   "outputs": [],
   "source": []
  },
  {
   "cell_type": "code",
   "execution_count": null,
   "metadata": {
    "papermill": {
     "duration": 0.08168,
     "end_time": "2020-10-26T12:48:14.435554",
     "exception": false,
     "start_time": "2020-10-26T12:48:14.353874",
     "status": "completed"
    },
    "tags": []
   },
   "outputs": [],
   "source": []
  },
  {
   "cell_type": "code",
   "execution_count": null,
   "metadata": {
    "papermill": {
     "duration": 0.080788,
     "end_time": "2020-10-26T12:48:14.596978",
     "exception": false,
     "start_time": "2020-10-26T12:48:14.51619",
     "status": "completed"
    },
    "tags": []
   },
   "outputs": [],
   "source": []
  }
 ],
 "metadata": {
  "kernelspec": {
   "display_name": "Python 3 (ipykernel)",
   "language": "python",
   "name": "python3"
  },
  "language_info": {
   "codemirror_mode": {
    "name": "ipython",
    "version": 3
   },
   "file_extension": ".py",
   "mimetype": "text/x-python",
   "name": "python",
   "nbconvert_exporter": "python",
   "pygments_lexer": "ipython3",
   "version": "3.9.7"
  }
 },
 "nbformat": 4,
 "nbformat_minor": 4
}
